{
 "cells": [
  {
   "cell_type": "markdown",
   "id": "fb9184b5",
   "metadata": {},
   "source": [
    "### Проект e-commerce: вариант 1  \n",
    "\n",
    "Продакт-менеджер Василий попросил вас проанализировать совершенные покупки и ответить на следующие вопросы:\n",
    "\n",
    "1. Сколько у нас пользователей, которые совершили покупку только один раз? (7 баллов)  \n",
    "\n",
    "2. Сколько заказов в месяц в среднем не доставляется по разным причинам (вывести детализацию по причинам)? (10 баллов)  \n",
    "\n",
    "3. По каждому товару определить, в какой день недели товар чаще всего покупается. (7 баллов)  \n",
    "\n",
    "4. Сколько у каждого из пользователей в среднем покупок в неделю (по месяцам)? Не стоит забывать, что внутри месяца может быть не целое количество недель. Например, в ноябре 2021 года 4,28 недели. И внутри метрики это нужно учесть. (8 баллов)   \n",
    "\n",
    "5. Используя pandas, проведи когортный анализ пользователей. В период с января по декабрь выяви когорту с самым высоким retention на 3й месяц. Описание подхода можно найти тут. (15 баллов)  \n",
    "\n",
    "6. Часто для качественного анализа аудитории использую подходы, основанные на сегментации. Используя python, построй RFM-сегментацию пользователей, чтобы качественно оценить свою аудиторию. В кластеризации можешь выбрать следующие метрики: R - время от последней покупки пользователя до текущей даты, F - суммарное количество покупок у пользователя за всё время, M - сумма покупок за всё время. Подробно опиши, как ты создавал кластеры. Для каждого RFM-сегмента построй границы метрик recency, frequency и monetary для интерпретации этих кластеров. Пример такого описания: RFM-сегмент 132 (recency=1, frequency=3, monetary=2) имеет границы метрик recency от 130 до 500 дней, frequency от 2 до 5 заказов в неделю, monetary от 1780 до 3560 рублей в неделю. Описание подхода можно найти тут. (23 балла)  \n",
    "\n",
    "Для решения задачи проведи предварительное исследование данных и сформулируй, что должно считаться покупкой. Обосновать свой выбор ты можешь с помощью фактов оплат, статусов заказов и других имеющихся данных."
   ]
  },
  {
   "cell_type": "markdown",
   "id": "3ded4273",
   "metadata": {},
   "source": [
    "\n",
    "• **olist_customers_dataset.csv** — таблица с уникальными идентификаторами пользователей\n",
    "\n",
    "    customer_id — позаказный идентификатор пользователя  \n",
    "\n",
    "    customer_unique_id —  уникальный идентификатор пользователя  (аналог номера паспорта)\n",
    "\n",
    "    customer_zip_code_prefix —  почтовый индекс пользователя\n",
    "\n",
    "    customer_city —  город доставки пользователя\n",
    "\n",
    "    customer_state —  штат доставки пользователя\n",
    "\n",
    "• **olist_orders_dataset.csv** —  таблица заказов\n",
    "\n",
    "    order_id —  уникальный идентификатор заказа (номер чека)\n",
    "\n",
    "    customer_id —  позаказный идентификатор пользователя\n",
    "\n",
    "    order_status —  статус заказа\n",
    "\n",
    "    order_purchase_timestamp —  время создания заказа\n",
    "\n",
    "    order_approved_at —  время подтверждения оплаты заказа\n",
    "\n",
    "    order_delivered_carrier_date —  время передачи заказа в логистическую службу\n",
    "\n",
    "    order_delivered_customer_date —  время доставки заказа\n",
    "\n",
    "    order_estimated_delivery_date —  обещанная дата доставки\n",
    "\n",
    "• **olist_order_items_dataset.csv** —  товарные позиции, входящие в заказы\n",
    "\n",
    "    order_id —  уникальный идентификатор заказа (номер чека)\n",
    "\n",
    "    order_item_id —  идентификатор товара внутри одного заказа\n",
    "\n",
    "    product_id —  ид товара (аналог штрихкода)\n",
    "\n",
    "    seller_id — ид производителя товара\n",
    "\n",
    "    shipping_limit_date —  максимальная дата доставки продавцом для передачи заказа партнеру по логистике\n",
    "\n",
    "    price —  цена за единицу товара\n",
    "\n",
    "    freight_value —  вес товара"
   ]
  },
  {
   "cell_type": "markdown",
   "id": "c3cb82b9",
   "metadata": {},
   "source": [
    "Пример структуры данных можно визуализировать по ```order_id == 00143d0f86d6fbd9f9b38ab440ac16f5```\n",
    "\n",
    "Уникальные статусы заказов в таблице olist_orders_dataset:  \n",
    "\n",
    "created —  создан  \n",
    "approved —  подтверждён  \n",
    "invoiced —  выставлен счёт  \n",
    "processing —  в процессе сборки заказа  \n",
    "shipped —  отгружен со склада  \n",
    "delivered —  доставлен пользователю  \n",
    "unavailable —  недоступен  \n",
    "canceled —  отменён  "
   ]
  },
  {
   "cell_type": "code",
   "execution_count": 1,
   "id": "26da4a62",
   "metadata": {},
   "outputs": [],
   "source": [
    "import pandas as pd\n",
    "import seaborn as sns\n",
    "import matplotlib.pyplot as plt\n",
    "import numpy as np\n",
    "import os"
   ]
  },
  {
   "cell_type": "code",
   "execution_count": 2,
   "id": "b82b2582",
   "metadata": {},
   "outputs": [
    {
     "data": {
      "text/plain": [
       "'C:\\\\Users\\\\Noblesse\\\\Desktop\\\\Jupyter_Projects\\\\KarpovCourse\\\\Intermediate_Project'"
      ]
     },
     "execution_count": 2,
     "metadata": {},
     "output_type": "execute_result"
    }
   ],
   "source": [
    "os.getcwd()"
   ]
  },
  {
   "cell_type": "code",
   "execution_count": 3,
   "id": "214debe0",
   "metadata": {},
   "outputs": [],
   "source": [
    "path1 = 'C:\\\\Users\\\\Noblesse\\\\Desktop\\\\Jupyter_Projects\\\\KarpovCourse\\\\Intermediate_Project\\\\olist_customers_dataset.csv'\n",
    "path2 = 'C:\\\\Users\\\\Noblesse\\\\Desktop\\\\Jupyter_Projects\\\\KarpovCourse\\\\Intermediate_Project\\\\olist_order_items_dataset.csv'\n",
    "path3 = 'C:\\\\Users\\\\Noblesse\\\\Desktop\\\\Jupyter_Projects\\\\KarpovCourse\\\\Intermediate_Project\\\\olist_orders_dataset.csv'\n",
    "\n",
    "customers = pd.read_csv(path1)\n",
    "items     = pd.read_csv(path2)\n",
    "orders    = pd.read_csv(path3)"
   ]
  },
  {
   "cell_type": "code",
   "execution_count": 4,
   "id": "5c9bd6fb",
   "metadata": {},
   "outputs": [
    {
     "name": "stdout",
     "output_type": "stream",
     "text": [
      "(99441, 5)\n",
      "(112650, 7)\n",
      "(99441, 8)\n"
     ]
    }
   ],
   "source": [
    "print(customers.shape)\n",
    "print(items.shape)\n",
    "print(orders.shape)"
   ]
  },
  {
   "cell_type": "code",
   "execution_count": 5,
   "id": "ea270838",
   "metadata": {},
   "outputs": [
    {
     "name": "stdout",
     "output_type": "stream",
     "text": [
      "customer_id                 False\n",
      "customer_unique_id          False\n",
      "customer_zip_code_prefix    False\n",
      "customer_city               False\n",
      "customer_state              False\n",
      "dtype: bool \n",
      "\n",
      "order_id               False\n",
      "order_item_id          False\n",
      "product_id             False\n",
      "seller_id              False\n",
      "shipping_limit_date    False\n",
      "price                  False\n",
      "freight_value          False\n",
      "dtype: bool \n",
      "\n",
      "order_id                         False\n",
      "customer_id                      False\n",
      "order_status                     False\n",
      "order_purchase_timestamp         False\n",
      "order_approved_at                 True\n",
      "order_delivered_carrier_date      True\n",
      "order_delivered_customer_date     True\n",
      "order_estimated_delivery_date    False\n",
      "dtype: bool\n"
     ]
    }
   ],
   "source": [
    "print(customers.isna().any(), '\\n')\n",
    "print(items.isna().any(), '\\n')\n",
    "print(orders.isna().any())"
   ]
  },
  {
   "cell_type": "markdown",
   "id": "51e91c98",
   "metadata": {},
   "source": [
    "## 1. Сколько у нас пользователей, которые совершили покупку только один раз?"
   ]
  },
  {
   "cell_type": "markdown",
   "id": "6a063b01",
   "metadata": {},
   "source": [
    "• Посмотрим сколько у нас вообще уникальных пользователей, есть ли дубликаты и если есть, то сколько их."
   ]
  },
  {
   "cell_type": "code",
   "execution_count": 6,
   "id": "e08c4071",
   "metadata": {
    "scrolled": true
   },
   "outputs": [
    {
     "data": {
      "text/plain": [
       "customer_id                 99441\n",
       "customer_unique_id          96096\n",
       "customer_zip_code_prefix    14994\n",
       "customer_city                4119\n",
       "customer_state                 27\n",
       "dtype: int64"
      ]
     },
     "execution_count": 6,
     "metadata": {},
     "output_type": "execute_result"
    }
   ],
   "source": [
    "customers.nunique()"
   ]
  },
  {
   "cell_type": "code",
   "execution_count": 7,
   "id": "272b831f",
   "metadata": {},
   "outputs": [
    {
     "data": {
      "text/plain": [
       "False    96096\n",
       "True      3345\n",
       "Name: customer_unique_id, dtype: int64"
      ]
     },
     "execution_count": 7,
     "metadata": {},
     "output_type": "execute_result"
    }
   ],
   "source": [
    "customers.customer_unique_id.duplicated().value_counts()"
   ]
  },
  {
   "cell_type": "markdown",
   "id": "ecc002a7",
   "metadata": {},
   "source": [
    "• Так как количество уникальных пользователей `customer_unique_id` меньше, чем `customer_id`, это значит, что в `customer_id` несколько заказов могут соответствовать одному уникальному пользователю в `customer_unique_id`. \n"
   ]
  },
  {
   "cell_type": "markdown",
   "id": "bcd37828",
   "metadata": {},
   "source": [
    "### Будем считать, что покупкой будут считаться те заказы, в которых `order_status == \"delivered\"` и есть время подтверждения оплаты заказа `order_approved_at`."
   ]
  },
  {
   "cell_type": "code",
   "execution_count": 8,
   "id": "fcd550b6",
   "metadata": {},
   "outputs": [],
   "source": [
    "purchases = orders.query('order_status == \"delivered\"').dropna(subset='order_approved_at')"
   ]
  },
  {
   "cell_type": "code",
   "execution_count": 9,
   "id": "c6c1dad7",
   "metadata": {},
   "outputs": [
    {
     "data": {
      "text/plain": [
       "(96464, 8)"
      ]
     },
     "execution_count": 9,
     "metadata": {},
     "output_type": "execute_result"
    }
   ],
   "source": [
    "purchases.shape"
   ]
  },
  {
   "cell_type": "markdown",
   "id": "847cb916",
   "metadata": {},
   "source": [
    "• Объединим таблицы `customers` и `purchases`. Затем удалим дубликаты и уберем все `null` значения. Остаться должны только те пользователи, которые совершили покупку только один раз."
   ]
  },
  {
   "cell_type": "code",
   "execution_count": 10,
   "id": "61fe0aa3",
   "metadata": {},
   "outputs": [],
   "source": [
    "single_purchase_customers = customers.merge(purchases, on='customer_id').drop_duplicates(subset='customer_unique_id', keep=False).dropna()"
   ]
  },
  {
   "cell_type": "code",
   "execution_count": 11,
   "id": "33f545be",
   "metadata": {},
   "outputs": [
    {
     "data": {
      "text/plain": [
       "customer_id                      90536\n",
       "customer_unique_id               90536\n",
       "customer_zip_code_prefix         14787\n",
       "customer_city                     4051\n",
       "customer_state                      27\n",
       "order_id                         90536\n",
       "order_status                         1\n",
       "order_purchase_timestamp         90302\n",
       "order_approved_at                83204\n",
       "order_delivered_carrier_date     75595\n",
       "order_delivered_customer_date    89833\n",
       "order_estimated_delivery_date      441\n",
       "dtype: int64"
      ]
     },
     "execution_count": 11,
     "metadata": {},
     "output_type": "execute_result"
    }
   ],
   "source": [
    "single_purchase_customers.dropna().nunique()"
   ]
  },
  {
   "cell_type": "markdown",
   "id": "476e0879",
   "metadata": {},
   "source": [
    "### Ответ: \n",
    "90536 пользователей совершили покупку только один раз. "
   ]
  },
  {
   "cell_type": "markdown",
   "id": "bb365636",
   "metadata": {},
   "source": [
    "## 2. Сколько заказов в месяц в среднем не доставляется по разным причинам (вывести детализацию по причинам)? (10 баллов) "
   ]
  },
  {
   "cell_type": "markdown",
   "id": "18732f4c",
   "metadata": {},
   "source": [
    "• Приведем данные к нужному типу."
   ]
  },
  {
   "cell_type": "code",
   "execution_count": 12,
   "id": "b0ad1e91",
   "metadata": {},
   "outputs": [],
   "source": [
    "orders[['order_purchase_timestamp',\n",
    "        'order_approved_at',\n",
    "        'order_delivered_carrier_date',\n",
    "        'order_delivered_customer_date',\n",
    "        'order_estimated_delivery_date']] = \\\n",
    "orders[['order_purchase_timestamp',\n",
    "        'order_approved_at',\n",
    "        'order_delivered_carrier_date',\n",
    "        'order_delivered_customer_date',\n",
    "        'order_estimated_delivery_date']].apply(pd.to_datetime)"
   ]
  },
  {
   "cell_type": "markdown",
   "id": "ec4c0f28",
   "metadata": {},
   "source": [
    "• Будем считать, что недоставленные заказы это оплаченные заказы, у которых нету даты доставки `order_delivered_customer_date` и статус заказа = `canceled` или `unavailable`, т.к. остальные статусы означают, что заказ или уже доставлен, или ещё только сформирован и обрабатывается, или в процессе доставки, и мы не знаем пока, доставлен он будет в итоге или нет. "
   ]
  },
  {
   "cell_type": "code",
   "execution_count": 13,
   "id": "9263e8b5",
   "metadata": {},
   "outputs": [],
   "source": [
    "not_delivered = orders[orders.order_delivered_customer_date.isna()].dropna(subset='order_approved_at') \\\n",
    "    .query('order_status == \"canceled\" or order_status == \"unavailable\"')"
   ]
  },
  {
   "cell_type": "markdown",
   "id": "cd2a8895",
   "metadata": {},
   "source": [
    "• Добавим столбец с датой в формате год-месяц, чтобы сгруппировать по ней и посчитать среднее количество недоставленных заказов в месяц."
   ]
  },
  {
   "cell_type": "code",
   "execution_count": 14,
   "id": "2b488cc5",
   "metadata": {},
   "outputs": [
    {
     "data": {
      "text/html": [
       "<div>\n",
       "<style scoped>\n",
       "    .dataframe tbody tr th:only-of-type {\n",
       "        vertical-align: middle;\n",
       "    }\n",
       "\n",
       "    .dataframe tbody tr th {\n",
       "        vertical-align: top;\n",
       "    }\n",
       "\n",
       "    .dataframe thead th {\n",
       "        text-align: right;\n",
       "    }\n",
       "</style>\n",
       "<table border=\"1\" class=\"dataframe\">\n",
       "  <thead>\n",
       "    <tr style=\"text-align: right;\">\n",
       "      <th></th>\n",
       "      <th>order_id</th>\n",
       "      <th>customer_id</th>\n",
       "      <th>order_status</th>\n",
       "      <th>order_purchase_timestamp</th>\n",
       "      <th>order_approved_at</th>\n",
       "      <th>order_delivered_carrier_date</th>\n",
       "      <th>order_delivered_customer_date</th>\n",
       "      <th>order_estimated_delivery_date</th>\n",
       "      <th>ym_date</th>\n",
       "    </tr>\n",
       "  </thead>\n",
       "  <tbody>\n",
       "    <tr>\n",
       "      <th>266</th>\n",
       "      <td>8e24261a7e58791d10cb1bf9da94df5c</td>\n",
       "      <td>64a254d30eed42cd0e6c36dddb88adf0</td>\n",
       "      <td>unavailable</td>\n",
       "      <td>2017-11-16 15:09:28</td>\n",
       "      <td>2017-11-16 15:26:57</td>\n",
       "      <td>NaT</td>\n",
       "      <td>NaT</td>\n",
       "      <td>2017-12-05</td>\n",
       "      <td>2017-11</td>\n",
       "    </tr>\n",
       "  </tbody>\n",
       "</table>\n",
       "</div>"
      ],
      "text/plain": [
       "                             order_id                       customer_id  \\\n",
       "266  8e24261a7e58791d10cb1bf9da94df5c  64a254d30eed42cd0e6c36dddb88adf0   \n",
       "\n",
       "    order_status order_purchase_timestamp   order_approved_at  \\\n",
       "266  unavailable      2017-11-16 15:09:28 2017-11-16 15:26:57   \n",
       "\n",
       "    order_delivered_carrier_date order_delivered_customer_date  \\\n",
       "266                          NaT                           NaT   \n",
       "\n",
       "    order_estimated_delivery_date  ym_date  \n",
       "266                    2017-12-05  2017-11  "
      ]
     },
     "execution_count": 14,
     "metadata": {},
     "output_type": "execute_result"
    }
   ],
   "source": [
    "not_delivered['ym_date'] = not_delivered['order_approved_at'].dt.strftime('%Y-%m')\n",
    "not_delivered.head(1)"
   ]
  },
  {
   "cell_type": "markdown",
   "id": "2b34bd81",
   "metadata": {},
   "source": [
    "• Группируем данные по дате, считаем количество заказов на каждый месяц, потом находим среднее."
   ]
  },
  {
   "cell_type": "code",
   "execution_count": 15,
   "id": "e39b8eda",
   "metadata": {},
   "outputs": [
    {
     "data": {
      "text/plain": [
       "51.76190476190476"
      ]
     },
     "execution_count": 15,
     "metadata": {},
     "output_type": "execute_result"
    }
   ],
   "source": [
    "not_delivered.groupby(['ym_date'], as_index=False) \\\n",
    "    .order_id.count().order_id.mean()"
   ]
  },
  {
   "cell_type": "markdown",
   "id": "10cf7eb9",
   "metadata": {},
   "source": [
    "### Ответ(1): \n",
    "В среднем каждый месяц не доставляется около 52 заказов."
   ]
  },
  {
   "cell_type": "markdown",
   "id": "8629f14b",
   "metadata": {},
   "source": [
    "• Попробуем понять по каким причинам заказы не были доставлены. Из имеющейся релевантной информации мы можем только посмотреть на статусы заказов.\n",
    "\n",
    "• Сгруппируем недоставленные заказы по статусу."
   ]
  },
  {
   "cell_type": "code",
   "execution_count": 16,
   "id": "65420203",
   "metadata": {
    "scrolled": true
   },
   "outputs": [
    {
     "data": {
      "text/html": [
       "<div>\n",
       "<style scoped>\n",
       "    .dataframe tbody tr th:only-of-type {\n",
       "        vertical-align: middle;\n",
       "    }\n",
       "\n",
       "    .dataframe tbody tr th {\n",
       "        vertical-align: top;\n",
       "    }\n",
       "\n",
       "    .dataframe thead th {\n",
       "        text-align: right;\n",
       "    }\n",
       "</style>\n",
       "<table border=\"1\" class=\"dataframe\">\n",
       "  <thead>\n",
       "    <tr style=\"text-align: right;\">\n",
       "      <th></th>\n",
       "      <th>order_status</th>\n",
       "      <th>order_id</th>\n",
       "    </tr>\n",
       "  </thead>\n",
       "  <tbody>\n",
       "    <tr>\n",
       "      <th>0</th>\n",
       "      <td>canceled</td>\n",
       "      <td>478</td>\n",
       "    </tr>\n",
       "    <tr>\n",
       "      <th>1</th>\n",
       "      <td>unavailable</td>\n",
       "      <td>609</td>\n",
       "    </tr>\n",
       "  </tbody>\n",
       "</table>\n",
       "</div>"
      ],
      "text/plain": [
       "  order_status  order_id\n",
       "0     canceled       478\n",
       "1  unavailable       609"
      ]
     },
     "execution_count": 16,
     "metadata": {},
     "output_type": "execute_result"
    }
   ],
   "source": [
    "not_delivered.groupby('order_status', as_index=False) \\\n",
    "    .order_id.count()"
   ]
  },
  {
   "cell_type": "code",
   "execution_count": 17,
   "id": "1a660175",
   "metadata": {},
   "outputs": [
    {
     "data": {
      "text/plain": [
       "22.761904761904763"
      ]
     },
     "execution_count": 17,
     "metadata": {},
     "output_type": "execute_result"
    }
   ],
   "source": [
    "not_delivered.groupby(['ym_date', 'order_status'], as_index=False) \\\n",
    "    .order_id.count() \\\n",
    "    .query('order_status == \"canceled\"') \\\n",
    "    .groupby('ym_date', as_index=False) \\\n",
    "    .order_id.sum().order_id.mean()"
   ]
  },
  {
   "cell_type": "code",
   "execution_count": 18,
   "id": "3d26a318",
   "metadata": {},
   "outputs": [
    {
     "data": {
      "text/plain": [
       "29.0"
      ]
     },
     "execution_count": 18,
     "metadata": {},
     "output_type": "execute_result"
    }
   ],
   "source": [
    "not_delivered.groupby(['ym_date', 'order_status'], as_index=False) \\\n",
    "    .order_id.count() \\\n",
    "    .query('order_status == \"unavailable\"') \\\n",
    "    .groupby('ym_date', as_index=False) \\\n",
    "    .order_id.sum().order_id.mean()"
   ]
  },
  {
   "cell_type": "markdown",
   "id": "9ef28fdd",
   "metadata": {},
   "source": [
    "### Ответ(2): \n",
    "В среднем в месяц около 23 заказов не доставляются из-за отмены заказа, и 29 из-за того, что заказ недоступен."
   ]
  },
  {
   "cell_type": "markdown",
   "id": "b86f0f6e",
   "metadata": {},
   "source": [
    "### P.S. Надо уточнить у менеджера:\n",
    "\n",
    "• Есть 8 заказов, у которых статус `delivered`, но нету даты доставки. В своих рассчетах я не учитывал эти 8 заказов, потому что дата доставки отсутствует, но надо уточнить где ошибка - в статусе, или в дате доставки. "
   ]
  },
  {
   "cell_type": "code",
   "execution_count": 19,
   "id": "753ef7ba",
   "metadata": {},
   "outputs": [
    {
     "data": {
      "text/html": [
       "<div>\n",
       "<style scoped>\n",
       "    .dataframe tbody tr th:only-of-type {\n",
       "        vertical-align: middle;\n",
       "    }\n",
       "\n",
       "    .dataframe tbody tr th {\n",
       "        vertical-align: top;\n",
       "    }\n",
       "\n",
       "    .dataframe thead th {\n",
       "        text-align: right;\n",
       "    }\n",
       "</style>\n",
       "<table border=\"1\" class=\"dataframe\">\n",
       "  <thead>\n",
       "    <tr style=\"text-align: right;\">\n",
       "      <th></th>\n",
       "      <th>order_id</th>\n",
       "      <th>customer_id</th>\n",
       "      <th>order_status</th>\n",
       "      <th>order_purchase_timestamp</th>\n",
       "      <th>order_approved_at</th>\n",
       "      <th>order_delivered_carrier_date</th>\n",
       "      <th>order_delivered_customer_date</th>\n",
       "      <th>order_estimated_delivery_date</th>\n",
       "    </tr>\n",
       "  </thead>\n",
       "  <tbody>\n",
       "    <tr>\n",
       "      <th>3002</th>\n",
       "      <td>2d1e2d5bf4dc7227b3bfebb81328c15f</td>\n",
       "      <td>ec05a6d8558c6455f0cbbd8a420ad34f</td>\n",
       "      <td>delivered</td>\n",
       "      <td>2017-11-28 17:44:07</td>\n",
       "      <td>2017-11-28 17:56:40</td>\n",
       "      <td>2017-11-30 18:12:23</td>\n",
       "      <td>NaT</td>\n",
       "      <td>2017-12-18</td>\n",
       "    </tr>\n",
       "    <tr>\n",
       "      <th>20618</th>\n",
       "      <td>f5dd62b788049ad9fc0526e3ad11a097</td>\n",
       "      <td>5e89028e024b381dc84a13a3570decb4</td>\n",
       "      <td>delivered</td>\n",
       "      <td>2018-06-20 06:58:43</td>\n",
       "      <td>2018-06-20 07:19:05</td>\n",
       "      <td>2018-06-25 08:05:00</td>\n",
       "      <td>NaT</td>\n",
       "      <td>2018-07-16</td>\n",
       "    </tr>\n",
       "    <tr>\n",
       "      <th>43834</th>\n",
       "      <td>2ebdfc4f15f23b91474edf87475f108e</td>\n",
       "      <td>29f0540231702fda0cfdee0a310f11aa</td>\n",
       "      <td>delivered</td>\n",
       "      <td>2018-07-01 17:05:11</td>\n",
       "      <td>2018-07-01 17:15:12</td>\n",
       "      <td>2018-07-03 13:57:00</td>\n",
       "      <td>NaT</td>\n",
       "      <td>2018-07-30</td>\n",
       "    </tr>\n",
       "    <tr>\n",
       "      <th>79263</th>\n",
       "      <td>e69f75a717d64fc5ecdfae42b2e8e086</td>\n",
       "      <td>cfda40ca8dd0a5d486a9635b611b398a</td>\n",
       "      <td>delivered</td>\n",
       "      <td>2018-07-01 22:05:55</td>\n",
       "      <td>2018-07-01 22:15:14</td>\n",
       "      <td>2018-07-03 13:57:00</td>\n",
       "      <td>NaT</td>\n",
       "      <td>2018-07-30</td>\n",
       "    </tr>\n",
       "    <tr>\n",
       "      <th>82868</th>\n",
       "      <td>0d3268bad9b086af767785e3f0fc0133</td>\n",
       "      <td>4f1d63d35fb7c8999853b2699f5c7649</td>\n",
       "      <td>delivered</td>\n",
       "      <td>2018-07-01 21:14:02</td>\n",
       "      <td>2018-07-01 21:29:54</td>\n",
       "      <td>2018-07-03 09:28:00</td>\n",
       "      <td>NaT</td>\n",
       "      <td>2018-07-24</td>\n",
       "    </tr>\n",
       "    <tr>\n",
       "      <th>92643</th>\n",
       "      <td>2d858f451373b04fb5c984a1cc2defaf</td>\n",
       "      <td>e08caf668d499a6d643dafd7c5cc498a</td>\n",
       "      <td>delivered</td>\n",
       "      <td>2017-05-25 23:22:43</td>\n",
       "      <td>2017-05-25 23:30:16</td>\n",
       "      <td>NaT</td>\n",
       "      <td>NaT</td>\n",
       "      <td>2017-06-23</td>\n",
       "    </tr>\n",
       "    <tr>\n",
       "      <th>97647</th>\n",
       "      <td>ab7c89dc1bf4a1ead9d6ec1ec8968a84</td>\n",
       "      <td>dd1b84a7286eb4524d52af4256c0ba24</td>\n",
       "      <td>delivered</td>\n",
       "      <td>2018-06-08 12:09:39</td>\n",
       "      <td>2018-06-08 12:36:39</td>\n",
       "      <td>2018-06-12 14:10:00</td>\n",
       "      <td>NaT</td>\n",
       "      <td>2018-06-26</td>\n",
       "    </tr>\n",
       "    <tr>\n",
       "      <th>98038</th>\n",
       "      <td>20edc82cf5400ce95e1afacc25798b31</td>\n",
       "      <td>28c37425f1127d887d7337f284080a0f</td>\n",
       "      <td>delivered</td>\n",
       "      <td>2018-06-27 16:09:12</td>\n",
       "      <td>2018-06-27 16:29:30</td>\n",
       "      <td>2018-07-03 19:26:00</td>\n",
       "      <td>NaT</td>\n",
       "      <td>2018-07-19</td>\n",
       "    </tr>\n",
       "  </tbody>\n",
       "</table>\n",
       "</div>"
      ],
      "text/plain": [
       "                               order_id                       customer_id  \\\n",
       "3002   2d1e2d5bf4dc7227b3bfebb81328c15f  ec05a6d8558c6455f0cbbd8a420ad34f   \n",
       "20618  f5dd62b788049ad9fc0526e3ad11a097  5e89028e024b381dc84a13a3570decb4   \n",
       "43834  2ebdfc4f15f23b91474edf87475f108e  29f0540231702fda0cfdee0a310f11aa   \n",
       "79263  e69f75a717d64fc5ecdfae42b2e8e086  cfda40ca8dd0a5d486a9635b611b398a   \n",
       "82868  0d3268bad9b086af767785e3f0fc0133  4f1d63d35fb7c8999853b2699f5c7649   \n",
       "92643  2d858f451373b04fb5c984a1cc2defaf  e08caf668d499a6d643dafd7c5cc498a   \n",
       "97647  ab7c89dc1bf4a1ead9d6ec1ec8968a84  dd1b84a7286eb4524d52af4256c0ba24   \n",
       "98038  20edc82cf5400ce95e1afacc25798b31  28c37425f1127d887d7337f284080a0f   \n",
       "\n",
       "      order_status order_purchase_timestamp   order_approved_at  \\\n",
       "3002     delivered      2017-11-28 17:44:07 2017-11-28 17:56:40   \n",
       "20618    delivered      2018-06-20 06:58:43 2018-06-20 07:19:05   \n",
       "43834    delivered      2018-07-01 17:05:11 2018-07-01 17:15:12   \n",
       "79263    delivered      2018-07-01 22:05:55 2018-07-01 22:15:14   \n",
       "82868    delivered      2018-07-01 21:14:02 2018-07-01 21:29:54   \n",
       "92643    delivered      2017-05-25 23:22:43 2017-05-25 23:30:16   \n",
       "97647    delivered      2018-06-08 12:09:39 2018-06-08 12:36:39   \n",
       "98038    delivered      2018-06-27 16:09:12 2018-06-27 16:29:30   \n",
       "\n",
       "      order_delivered_carrier_date order_delivered_customer_date  \\\n",
       "3002           2017-11-30 18:12:23                           NaT   \n",
       "20618          2018-06-25 08:05:00                           NaT   \n",
       "43834          2018-07-03 13:57:00                           NaT   \n",
       "79263          2018-07-03 13:57:00                           NaT   \n",
       "82868          2018-07-03 09:28:00                           NaT   \n",
       "92643                          NaT                           NaT   \n",
       "97647          2018-06-12 14:10:00                           NaT   \n",
       "98038          2018-07-03 19:26:00                           NaT   \n",
       "\n",
       "      order_estimated_delivery_date  \n",
       "3002                     2017-12-18  \n",
       "20618                    2018-07-16  \n",
       "43834                    2018-07-30  \n",
       "79263                    2018-07-30  \n",
       "82868                    2018-07-24  \n",
       "92643                    2017-06-23  \n",
       "97647                    2018-06-26  \n",
       "98038                    2018-07-19  "
      ]
     },
     "execution_count": 19,
     "metadata": {},
     "output_type": "execute_result"
    }
   ],
   "source": [
    "not_delivered_2 = orders[orders.order_delivered_customer_date.isna()] \\\n",
    "    .dropna(subset='order_approved_at') \\\n",
    "    .query('order_status == \"delivered\"')\n",
    "\n",
    "not_delivered_2"
   ]
  },
  {
   "cell_type": "markdown",
   "id": "686ac38d",
   "metadata": {},
   "source": [
    "## 3. По каждому товару определить, в какой день недели товар чаще всего покупается."
   ]
  },
  {
   "cell_type": "markdown",
   "id": "96d57493",
   "metadata": {},
   "source": [
    "• Будем считать, что \"товар\" это уникальный `product_id`. Найдем уникальные значения в таблице `items`."
   ]
  },
  {
   "cell_type": "code",
   "execution_count": 20,
   "id": "5d6cc227",
   "metadata": {},
   "outputs": [
    {
     "data": {
      "text/plain": [
       "order_id               98666\n",
       "order_item_id             21\n",
       "product_id             32951\n",
       "seller_id               3095\n",
       "shipping_limit_date    93318\n",
       "price                   5968\n",
       "freight_value           6999\n",
       "dtype: int64"
      ]
     },
     "execution_count": 20,
     "metadata": {},
     "output_type": "execute_result"
    }
   ],
   "source": [
    "items.nunique()"
   ]
  },
  {
   "cell_type": "code",
   "execution_count": 21,
   "id": "342e8661",
   "metadata": {},
   "outputs": [
    {
     "data": {
      "text/html": [
       "<div>\n",
       "<style scoped>\n",
       "    .dataframe tbody tr th:only-of-type {\n",
       "        vertical-align: middle;\n",
       "    }\n",
       "\n",
       "    .dataframe tbody tr th {\n",
       "        vertical-align: top;\n",
       "    }\n",
       "\n",
       "    .dataframe thead th {\n",
       "        text-align: right;\n",
       "    }\n",
       "</style>\n",
       "<table border=\"1\" class=\"dataframe\">\n",
       "  <thead>\n",
       "    <tr style=\"text-align: right;\">\n",
       "      <th></th>\n",
       "      <th>order_id</th>\n",
       "      <th>order_item_id</th>\n",
       "      <th>product_id</th>\n",
       "      <th>seller_id</th>\n",
       "      <th>shipping_limit_date</th>\n",
       "      <th>price</th>\n",
       "      <th>freight_value</th>\n",
       "    </tr>\n",
       "  </thead>\n",
       "  <tbody>\n",
       "    <tr>\n",
       "      <th>0</th>\n",
       "      <td>00010242fe8c5a6d1ba2dd792cb16214</td>\n",
       "      <td>1</td>\n",
       "      <td>4244733e06e7ecb4970a6e2683c13e61</td>\n",
       "      <td>48436dade18ac8b2bce089ec2a041202</td>\n",
       "      <td>2017-09-19 09:45:35</td>\n",
       "      <td>58.9</td>\n",
       "      <td>13.29</td>\n",
       "    </tr>\n",
       "  </tbody>\n",
       "</table>\n",
       "</div>"
      ],
      "text/plain": [
       "                           order_id  order_item_id  \\\n",
       "0  00010242fe8c5a6d1ba2dd792cb16214              1   \n",
       "\n",
       "                         product_id                         seller_id  \\\n",
       "0  4244733e06e7ecb4970a6e2683c13e61  48436dade18ac8b2bce089ec2a041202   \n",
       "\n",
       "   shipping_limit_date  price  freight_value  \n",
       "0  2017-09-19 09:45:35   58.9          13.29  "
      ]
     },
     "execution_count": 21,
     "metadata": {},
     "output_type": "execute_result"
    }
   ],
   "source": [
    "items.head(1)"
   ]
  },
  {
   "cell_type": "markdown",
   "id": "2fbbf129",
   "metadata": {},
   "source": [
    "• Сджойним таблицы `items` и `orders` и удалим дубликаты."
   ]
  },
  {
   "cell_type": "code",
   "execution_count": 22,
   "id": "52686f2c",
   "metadata": {},
   "outputs": [],
   "source": [
    "items_and_orders = items.merge(orders, on='order_id').dropna()"
   ]
  },
  {
   "cell_type": "markdown",
   "id": "1b4c111a",
   "metadata": {},
   "source": [
    "Добавим колонку с днем недели. В качестве даты будем использовать колонку с временем подтверждения оплаты заказа, т.к. нам нужен товар, который куплен."
   ]
  },
  {
   "cell_type": "code",
   "execution_count": 23,
   "id": "f9a4e6aa",
   "metadata": {},
   "outputs": [],
   "source": [
    "items_and_orders['dayofweek'] = items_and_orders['order_approved_at'].dt.day_name()"
   ]
  },
  {
   "cell_type": "markdown",
   "id": "634cf271",
   "metadata": {},
   "source": [
    "• Сгруппируем данны по ид товара `product_id` и дню недели `dayofweek` и посчитаем сколько покупок приходится на каждый товар в каждый день недели. Затем отсортируем в порядке убывания и удалим дубликаты по колонке `product_id` оставив только первое значение, которое в данном случае будет соответствовать дню с максимальным количеством покупок. "
   ]
  },
  {
   "cell_type": "code",
   "execution_count": 24,
   "id": "ac7ca2df",
   "metadata": {},
   "outputs": [],
   "source": [
    "purchase_by_day = items_and_orders.query('order_status == \"delivered\"') \\\n",
    "    .groupby(['product_id', 'dayofweek'], as_index=False) \\\n",
    "    .order_id.count() \\\n",
    "    .sort_values(['product_id', 'order_id'], ascending=False)"
   ]
  },
  {
   "cell_type": "markdown",
   "id": "e0548953",
   "metadata": {},
   "source": [
    "### Ответ:"
   ]
  },
  {
   "cell_type": "code",
   "execution_count": 25,
   "id": "978a28df",
   "metadata": {},
   "outputs": [
    {
     "data": {
      "text/html": [
       "<div>\n",
       "<style scoped>\n",
       "    .dataframe tbody tr th:only-of-type {\n",
       "        vertical-align: middle;\n",
       "    }\n",
       "\n",
       "    .dataframe tbody tr th {\n",
       "        vertical-align: top;\n",
       "    }\n",
       "\n",
       "    .dataframe thead th {\n",
       "        text-align: right;\n",
       "    }\n",
       "</style>\n",
       "<table border=\"1\" class=\"dataframe\">\n",
       "  <thead>\n",
       "    <tr style=\"text-align: right;\">\n",
       "      <th></th>\n",
       "      <th>product_id</th>\n",
       "      <th>dayofweek</th>\n",
       "      <th>order_id</th>\n",
       "    </tr>\n",
       "  </thead>\n",
       "  <tbody>\n",
       "    <tr>\n",
       "      <th>40186</th>\n",
       "      <td>aca2eb7d00ea1a7b8ebd4e68314663af</td>\n",
       "      <td>Tuesday</td>\n",
       "      <td>119</td>\n",
       "    </tr>\n",
       "    <tr>\n",
       "      <th>19706</th>\n",
       "      <td>53b36df67ebb7c41585e8d54d6772e08</td>\n",
       "      <td>Tuesday</td>\n",
       "      <td>104</td>\n",
       "    </tr>\n",
       "    <tr>\n",
       "      <th>15607</th>\n",
       "      <td>422879e10f46682990de24d770e7f83d</td>\n",
       "      <td>Tuesday</td>\n",
       "      <td>89</td>\n",
       "    </tr>\n",
       "    <tr>\n",
       "      <th>12791</th>\n",
       "      <td>368c6c730842d78016ad823897a372db</td>\n",
       "      <td>Thursday</td>\n",
       "      <td>80</td>\n",
       "    </tr>\n",
       "    <tr>\n",
       "      <th>35775</th>\n",
       "      <td>99a4788cb24856965c36a24e339b6058</td>\n",
       "      <td>Tuesday</td>\n",
       "      <td>78</td>\n",
       "    </tr>\n",
       "    <tr>\n",
       "      <th>...</th>\n",
       "      <td>...</td>\n",
       "      <td>...</td>\n",
       "      <td>...</td>\n",
       "    </tr>\n",
       "    <tr>\n",
       "      <th>36663</th>\n",
       "      <td>9d1b18c0f7c3a2519bac1d098f945278</td>\n",
       "      <td>Wednesday</td>\n",
       "      <td>1</td>\n",
       "    </tr>\n",
       "    <tr>\n",
       "      <th>36664</th>\n",
       "      <td>9d1dc59b23fe43e3808d874e78a5cfee</td>\n",
       "      <td>Monday</td>\n",
       "      <td>1</td>\n",
       "    </tr>\n",
       "    <tr>\n",
       "      <th>36665</th>\n",
       "      <td>9d240cb98df035e3ef147117b92aa0e7</td>\n",
       "      <td>Tuesday</td>\n",
       "      <td>1</td>\n",
       "    </tr>\n",
       "    <tr>\n",
       "      <th>36666</th>\n",
       "      <td>9d274c8de79fabb3f4c65b64b9feb02c</td>\n",
       "      <td>Tuesday</td>\n",
       "      <td>1</td>\n",
       "    </tr>\n",
       "    <tr>\n",
       "      <th>0</th>\n",
       "      <td>00066f42aeeb9f3007548bb9d3f33c38</td>\n",
       "      <td>Sunday</td>\n",
       "      <td>1</td>\n",
       "    </tr>\n",
       "  </tbody>\n",
       "</table>\n",
       "<p>32210 rows × 3 columns</p>\n",
       "</div>"
      ],
      "text/plain": [
       "                             product_id  dayofweek  order_id\n",
       "40186  aca2eb7d00ea1a7b8ebd4e68314663af    Tuesday       119\n",
       "19706  53b36df67ebb7c41585e8d54d6772e08    Tuesday       104\n",
       "15607  422879e10f46682990de24d770e7f83d    Tuesday        89\n",
       "12791  368c6c730842d78016ad823897a372db   Thursday        80\n",
       "35775  99a4788cb24856965c36a24e339b6058    Tuesday        78\n",
       "...                                 ...        ...       ...\n",
       "36663  9d1b18c0f7c3a2519bac1d098f945278  Wednesday         1\n",
       "36664  9d1dc59b23fe43e3808d874e78a5cfee     Monday         1\n",
       "36665  9d240cb98df035e3ef147117b92aa0e7    Tuesday         1\n",
       "36666  9d274c8de79fabb3f4c65b64b9feb02c    Tuesday         1\n",
       "0      00066f42aeeb9f3007548bb9d3f33c38     Sunday         1\n",
       "\n",
       "[32210 rows x 3 columns]"
      ]
     },
     "execution_count": 25,
     "metadata": {},
     "output_type": "execute_result"
    }
   ],
   "source": [
    "max_purchase_per_day = purchase_by_day.drop_duplicates(subset='product_id') \\\n",
    "                                      .sort_values('order_id', ascending=False)\n",
    "max_purchase_per_day"
   ]
  },
  {
   "cell_type": "markdown",
   "id": "fda22820",
   "metadata": {},
   "source": [
    "## 4. Сколько у каждого из пользователей в среднем покупок в неделю (по месяцам)? Не стоит забывать, что внутри месяца может быть не целое количество недель. Например, в ноябре 2021 года 4,28 недели. И внутри метрики это нужно учесть."
   ]
  },
  {
   "cell_type": "markdown",
   "id": "74f00e96",
   "metadata": {},
   "source": [
    "• Сджойним таблицы `customers` & `orders`, удалим null значения в колонке подтверждения оплаты, запросим только заказы со статусом `delivered`, т.к. по этим критериям мы считаем покупки.  "
   ]
  },
  {
   "cell_type": "code",
   "execution_count": 26,
   "id": "ccee3718",
   "metadata": {
    "scrolled": true
   },
   "outputs": [],
   "source": [
    "customers_orders_delivered = customers.merge(orders, on='customer_id') \\\n",
    "    .dropna(subset='order_approved_at') \\\n",
    "    .query('order_status==\"delivered\"')\n"
   ]
  },
  {
   "cell_type": "markdown",
   "id": "07103c58",
   "metadata": {},
   "source": [
    "• Добавим колонки \"месяц\", \"количество дней в месяце\" и \"недели\""
   ]
  },
  {
   "cell_type": "code",
   "execution_count": 27,
   "id": "9196fe4f",
   "metadata": {},
   "outputs": [],
   "source": [
    "customers_orders_delivered['year_month'] = customers_orders_delivered['order_approved_at'].dt.strftime('%Y-%m')\n",
    "customers_orders_delivered['days_in_month'] = customers_orders_delivered['order_approved_at'].dt.days_in_month\n",
    "customers_orders_delivered['weeks'] = customers_orders_delivered['days_in_month'] / 7"
   ]
  },
  {
   "cell_type": "code",
   "execution_count": 28,
   "id": "f752bce7",
   "metadata": {},
   "outputs": [
    {
     "data": {
      "text/html": [
       "<div>\n",
       "<style scoped>\n",
       "    .dataframe tbody tr th:only-of-type {\n",
       "        vertical-align: middle;\n",
       "    }\n",
       "\n",
       "    .dataframe tbody tr th {\n",
       "        vertical-align: top;\n",
       "    }\n",
       "\n",
       "    .dataframe thead th {\n",
       "        text-align: right;\n",
       "    }\n",
       "</style>\n",
       "<table border=\"1\" class=\"dataframe\">\n",
       "  <thead>\n",
       "    <tr style=\"text-align: right;\">\n",
       "      <th></th>\n",
       "      <th>customer_id</th>\n",
       "      <th>customer_unique_id</th>\n",
       "      <th>customer_zip_code_prefix</th>\n",
       "      <th>customer_city</th>\n",
       "      <th>customer_state</th>\n",
       "      <th>order_id</th>\n",
       "      <th>order_status</th>\n",
       "      <th>order_purchase_timestamp</th>\n",
       "      <th>order_approved_at</th>\n",
       "      <th>order_delivered_carrier_date</th>\n",
       "      <th>order_delivered_customer_date</th>\n",
       "      <th>order_estimated_delivery_date</th>\n",
       "      <th>year_month</th>\n",
       "      <th>days_in_month</th>\n",
       "      <th>weeks</th>\n",
       "    </tr>\n",
       "  </thead>\n",
       "  <tbody>\n",
       "    <tr>\n",
       "      <th>0</th>\n",
       "      <td>06b8999e2fba1a1fbc88172c00ba8bc7</td>\n",
       "      <td>861eff4711a542e4b93843c6dd7febb0</td>\n",
       "      <td>14409</td>\n",
       "      <td>franca</td>\n",
       "      <td>SP</td>\n",
       "      <td>00e7ee1b050b8499577073aeb2a297a1</td>\n",
       "      <td>delivered</td>\n",
       "      <td>2017-05-16 15:05:35</td>\n",
       "      <td>2017-05-16 15:22:12</td>\n",
       "      <td>2017-05-23 10:47:57</td>\n",
       "      <td>2017-05-25 10:35:35</td>\n",
       "      <td>2017-06-05</td>\n",
       "      <td>2017-05</td>\n",
       "      <td>31</td>\n",
       "      <td>4.428571</td>\n",
       "    </tr>\n",
       "  </tbody>\n",
       "</table>\n",
       "</div>"
      ],
      "text/plain": [
       "                        customer_id                customer_unique_id  \\\n",
       "0  06b8999e2fba1a1fbc88172c00ba8bc7  861eff4711a542e4b93843c6dd7febb0   \n",
       "\n",
       "   customer_zip_code_prefix customer_city customer_state  \\\n",
       "0                     14409        franca             SP   \n",
       "\n",
       "                           order_id order_status order_purchase_timestamp  \\\n",
       "0  00e7ee1b050b8499577073aeb2a297a1    delivered      2017-05-16 15:05:35   \n",
       "\n",
       "    order_approved_at order_delivered_carrier_date  \\\n",
       "0 2017-05-16 15:22:12          2017-05-23 10:47:57   \n",
       "\n",
       "  order_delivered_customer_date order_estimated_delivery_date year_month  \\\n",
       "0           2017-05-25 10:35:35                    2017-06-05    2017-05   \n",
       "\n",
       "   days_in_month     weeks  \n",
       "0             31  4.428571  "
      ]
     },
     "execution_count": 28,
     "metadata": {},
     "output_type": "execute_result"
    }
   ],
   "source": [
    "customers_orders_delivered.head(1)"
   ]
  },
  {
   "cell_type": "markdown",
   "id": "6fe6dc53",
   "metadata": {},
   "source": [
    "• Проверим на заказы на дубликаты в сджойненной таблице"
   ]
  },
  {
   "cell_type": "code",
   "execution_count": 29,
   "id": "1d96a0f8",
   "metadata": {},
   "outputs": [
    {
     "data": {
      "text/plain": [
       "False"
      ]
     },
     "execution_count": 29,
     "metadata": {},
     "output_type": "execute_result"
    }
   ],
   "source": [
    "customers_orders_delivered.order_id.duplicated().any()"
   ]
  },
  {
   "cell_type": "markdown",
   "id": "637ba621",
   "metadata": {},
   "source": [
    "• Сгруппируем данные по уникальному ид пользователя, месяцу и неделям и посчитаем количество покупок."
   ]
  },
  {
   "cell_type": "code",
   "execution_count": 30,
   "id": "b77b5e01",
   "metadata": {},
   "outputs": [
    {
     "data": {
      "text/html": [
       "<div>\n",
       "<style scoped>\n",
       "    .dataframe tbody tr th:only-of-type {\n",
       "        vertical-align: middle;\n",
       "    }\n",
       "\n",
       "    .dataframe tbody tr th {\n",
       "        vertical-align: top;\n",
       "    }\n",
       "\n",
       "    .dataframe thead th {\n",
       "        text-align: right;\n",
       "    }\n",
       "</style>\n",
       "<table border=\"1\" class=\"dataframe\">\n",
       "  <thead>\n",
       "    <tr style=\"text-align: right;\">\n",
       "      <th></th>\n",
       "      <th>customer_unique_id</th>\n",
       "      <th>year_month</th>\n",
       "      <th>weeks</th>\n",
       "      <th>order_id</th>\n",
       "    </tr>\n",
       "  </thead>\n",
       "  <tbody>\n",
       "    <tr>\n",
       "      <th>7100</th>\n",
       "      <td>12f5d6e1cbf93dafd9dcc19095df0b3d</td>\n",
       "      <td>2017-01</td>\n",
       "      <td>4.428571</td>\n",
       "      <td>6</td>\n",
       "    </tr>\n",
       "    <tr>\n",
       "      <th>65760</th>\n",
       "      <td>b08fab27d47a1eb6deda07bfd965ad43</td>\n",
       "      <td>2017-09</td>\n",
       "      <td>4.285714</td>\n",
       "      <td>4</td>\n",
       "    </tr>\n",
       "    <tr>\n",
       "      <th>49119</th>\n",
       "      <td>83e7958a94bd7f74a9414d8782f87628</td>\n",
       "      <td>2017-01</td>\n",
       "      <td>4.428571</td>\n",
       "      <td>4</td>\n",
       "    </tr>\n",
       "    <tr>\n",
       "      <th>74547</th>\n",
       "      <td>c8460e4251689ba205045f3ea17884a1</td>\n",
       "      <td>2018-08</td>\n",
       "      <td>4.428571</td>\n",
       "      <td>4</td>\n",
       "    </tr>\n",
       "    <tr>\n",
       "      <th>60361</th>\n",
       "      <td>a239b8e2fbce33780f1f1912e2ee5275</td>\n",
       "      <td>2017-02</td>\n",
       "      <td>4.000000</td>\n",
       "      <td>4</td>\n",
       "    </tr>\n",
       "    <tr>\n",
       "      <th>...</th>\n",
       "      <td>...</td>\n",
       "      <td>...</td>\n",
       "      <td>...</td>\n",
       "      <td>...</td>\n",
       "    </tr>\n",
       "    <tr>\n",
       "      <th>31894</th>\n",
       "      <td>55a36fca00cebb9272a8e7d5b8325f59</td>\n",
       "      <td>2017-05</td>\n",
       "      <td>4.428571</td>\n",
       "      <td>1</td>\n",
       "    </tr>\n",
       "    <tr>\n",
       "      <th>31893</th>\n",
       "      <td>55a34f9f352e3c1ef564fc7855a1b7e9</td>\n",
       "      <td>2018-07</td>\n",
       "      <td>4.428571</td>\n",
       "      <td>1</td>\n",
       "    </tr>\n",
       "    <tr>\n",
       "      <th>31892</th>\n",
       "      <td>55a2d38a48216287f07c360037b1955b</td>\n",
       "      <td>2018-02</td>\n",
       "      <td>4.000000</td>\n",
       "      <td>1</td>\n",
       "    </tr>\n",
       "    <tr>\n",
       "      <th>31891</th>\n",
       "      <td>55a2c780cc65e883981402b88dbd44d7</td>\n",
       "      <td>2017-06</td>\n",
       "      <td>4.285714</td>\n",
       "      <td>1</td>\n",
       "    </tr>\n",
       "    <tr>\n",
       "      <th>95175</th>\n",
       "      <td>ffffd2657e2aad2907e67c3e9daecbeb</td>\n",
       "      <td>2017-05</td>\n",
       "      <td>4.428571</td>\n",
       "      <td>1</td>\n",
       "    </tr>\n",
       "  </tbody>\n",
       "</table>\n",
       "<p>95176 rows × 4 columns</p>\n",
       "</div>"
      ],
      "text/plain": [
       "                     customer_unique_id year_month     weeks  order_id\n",
       "7100   12f5d6e1cbf93dafd9dcc19095df0b3d    2017-01  4.428571         6\n",
       "65760  b08fab27d47a1eb6deda07bfd965ad43    2017-09  4.285714         4\n",
       "49119  83e7958a94bd7f74a9414d8782f87628    2017-01  4.428571         4\n",
       "74547  c8460e4251689ba205045f3ea17884a1    2018-08  4.428571         4\n",
       "60361  a239b8e2fbce33780f1f1912e2ee5275    2017-02  4.000000         4\n",
       "...                                 ...        ...       ...       ...\n",
       "31894  55a36fca00cebb9272a8e7d5b8325f59    2017-05  4.428571         1\n",
       "31893  55a34f9f352e3c1ef564fc7855a1b7e9    2018-07  4.428571         1\n",
       "31892  55a2d38a48216287f07c360037b1955b    2018-02  4.000000         1\n",
       "31891  55a2c780cc65e883981402b88dbd44d7    2017-06  4.285714         1\n",
       "95175  ffffd2657e2aad2907e67c3e9daecbeb    2017-05  4.428571         1\n",
       "\n",
       "[95176 rows x 4 columns]"
      ]
     },
     "execution_count": 30,
     "metadata": {},
     "output_type": "execute_result"
    }
   ],
   "source": [
    "customers_orders_delivered.groupby(['customer_unique_id', 'year_month', 'weeks'], as_index=False) \\\n",
    "    .order_id.nunique() \\\n",
    "    .sort_values('order_id', ascending=False)"
   ]
  },
  {
   "cell_type": "code",
   "execution_count": 31,
   "id": "354851f6",
   "metadata": {},
   "outputs": [],
   "source": [
    "purchase_per_customer = customers_orders_delivered.groupby(['customer_unique_id', 'year_month', 'weeks'], as_index=False) \\\n",
    "    .customer_id.count() \\\n",
    "    .sort_values('customer_id', ascending=False)"
   ]
  },
  {
   "cell_type": "markdown",
   "id": "5a650617",
   "metadata": {},
   "source": [
    "• Добавим колонку со средним количеством покупок в неделю."
   ]
  },
  {
   "cell_type": "code",
   "execution_count": 32,
   "id": "e6d7dc6d",
   "metadata": {},
   "outputs": [],
   "source": [
    "purchase_per_customer['purchase_per_week'] = purchase_per_customer['customer_id'] / purchase_per_customer.weeks"
   ]
  },
  {
   "cell_type": "markdown",
   "id": "c12c7379",
   "metadata": {},
   "source": [
    "### Ответ:"
   ]
  },
  {
   "cell_type": "code",
   "execution_count": 33,
   "id": "009a554d",
   "metadata": {},
   "outputs": [
    {
     "data": {
      "text/html": [
       "<div>\n",
       "<style scoped>\n",
       "    .dataframe tbody tr th:only-of-type {\n",
       "        vertical-align: middle;\n",
       "    }\n",
       "\n",
       "    .dataframe tbody tr th {\n",
       "        vertical-align: top;\n",
       "    }\n",
       "\n",
       "    .dataframe thead th {\n",
       "        text-align: right;\n",
       "    }\n",
       "</style>\n",
       "<table border=\"1\" class=\"dataframe\">\n",
       "  <thead>\n",
       "    <tr style=\"text-align: right;\">\n",
       "      <th></th>\n",
       "      <th>customer_unique_id</th>\n",
       "      <th>year_month</th>\n",
       "      <th>weeks</th>\n",
       "      <th>customer_id</th>\n",
       "      <th>purchase_per_week</th>\n",
       "    </tr>\n",
       "  </thead>\n",
       "  <tbody>\n",
       "    <tr>\n",
       "      <th>7100</th>\n",
       "      <td>12f5d6e1cbf93dafd9dcc19095df0b3d</td>\n",
       "      <td>2017-01</td>\n",
       "      <td>4.428571</td>\n",
       "      <td>6</td>\n",
       "      <td>1.354839</td>\n",
       "    </tr>\n",
       "    <tr>\n",
       "      <th>60361</th>\n",
       "      <td>a239b8e2fbce33780f1f1912e2ee5275</td>\n",
       "      <td>2017-02</td>\n",
       "      <td>4.000000</td>\n",
       "      <td>4</td>\n",
       "      <td>1.000000</td>\n",
       "    </tr>\n",
       "    <tr>\n",
       "      <th>67349</th>\n",
       "      <td>b4e4f24de1e8725b74e4a1f4975116ed</td>\n",
       "      <td>2018-02</td>\n",
       "      <td>4.000000</td>\n",
       "      <td>4</td>\n",
       "      <td>1.000000</td>\n",
       "    </tr>\n",
       "    <tr>\n",
       "      <th>23220</th>\n",
       "      <td>3e43e6105506432c953e165fb2acf44c</td>\n",
       "      <td>2018-02</td>\n",
       "      <td>4.000000</td>\n",
       "      <td>4</td>\n",
       "      <td>1.000000</td>\n",
       "    </tr>\n",
       "    <tr>\n",
       "      <th>14057</th>\n",
       "      <td>25a560b9a6006157838aab1bdbd68624</td>\n",
       "      <td>2017-04</td>\n",
       "      <td>4.285714</td>\n",
       "      <td>4</td>\n",
       "      <td>0.933333</td>\n",
       "    </tr>\n",
       "    <tr>\n",
       "      <th>...</th>\n",
       "      <td>...</td>\n",
       "      <td>...</td>\n",
       "      <td>...</td>\n",
       "      <td>...</td>\n",
       "      <td>...</td>\n",
       "    </tr>\n",
       "    <tr>\n",
       "      <th>13611</th>\n",
       "      <td>24778d486978a0cc32ba430ded33ff1e</td>\n",
       "      <td>2018-01</td>\n",
       "      <td>4.428571</td>\n",
       "      <td>1</td>\n",
       "      <td>0.225806</td>\n",
       "    </tr>\n",
       "    <tr>\n",
       "      <th>13610</th>\n",
       "      <td>2477493cd0ffd29ef87933e32466fb8e</td>\n",
       "      <td>2018-01</td>\n",
       "      <td>4.428571</td>\n",
       "      <td>1</td>\n",
       "      <td>0.225806</td>\n",
       "    </tr>\n",
       "    <tr>\n",
       "      <th>13609</th>\n",
       "      <td>2476d7ece2a612057413907e779f4837</td>\n",
       "      <td>2018-01</td>\n",
       "      <td>4.428571</td>\n",
       "      <td>1</td>\n",
       "      <td>0.225806</td>\n",
       "    </tr>\n",
       "    <tr>\n",
       "      <th>56313</th>\n",
       "      <td>977004bef657cbc05d84674e29568a15</td>\n",
       "      <td>2018-05</td>\n",
       "      <td>4.428571</td>\n",
       "      <td>1</td>\n",
       "      <td>0.225806</td>\n",
       "    </tr>\n",
       "    <tr>\n",
       "      <th>95175</th>\n",
       "      <td>ffffd2657e2aad2907e67c3e9daecbeb</td>\n",
       "      <td>2017-05</td>\n",
       "      <td>4.428571</td>\n",
       "      <td>1</td>\n",
       "      <td>0.225806</td>\n",
       "    </tr>\n",
       "  </tbody>\n",
       "</table>\n",
       "<p>95176 rows × 5 columns</p>\n",
       "</div>"
      ],
      "text/plain": [
       "                     customer_unique_id year_month     weeks  customer_id  \\\n",
       "7100   12f5d6e1cbf93dafd9dcc19095df0b3d    2017-01  4.428571            6   \n",
       "60361  a239b8e2fbce33780f1f1912e2ee5275    2017-02  4.000000            4   \n",
       "67349  b4e4f24de1e8725b74e4a1f4975116ed    2018-02  4.000000            4   \n",
       "23220  3e43e6105506432c953e165fb2acf44c    2018-02  4.000000            4   \n",
       "14057  25a560b9a6006157838aab1bdbd68624    2017-04  4.285714            4   \n",
       "...                                 ...        ...       ...          ...   \n",
       "13611  24778d486978a0cc32ba430ded33ff1e    2018-01  4.428571            1   \n",
       "13610  2477493cd0ffd29ef87933e32466fb8e    2018-01  4.428571            1   \n",
       "13609  2476d7ece2a612057413907e779f4837    2018-01  4.428571            1   \n",
       "56313  977004bef657cbc05d84674e29568a15    2018-05  4.428571            1   \n",
       "95175  ffffd2657e2aad2907e67c3e9daecbeb    2017-05  4.428571            1   \n",
       "\n",
       "       purchase_per_week  \n",
       "7100            1.354839  \n",
       "60361           1.000000  \n",
       "67349           1.000000  \n",
       "23220           1.000000  \n",
       "14057           0.933333  \n",
       "...                  ...  \n",
       "13611           0.225806  \n",
       "13610           0.225806  \n",
       "13609           0.225806  \n",
       "56313           0.225806  \n",
       "95175           0.225806  \n",
       "\n",
       "[95176 rows x 5 columns]"
      ]
     },
     "execution_count": 33,
     "metadata": {},
     "output_type": "execute_result"
    }
   ],
   "source": [
    "purchase_per_customer.sort_values('purchase_per_week', ascending=False)"
   ]
  },
  {
   "cell_type": "markdown",
   "id": "1af231e2",
   "metadata": {},
   "source": [
    "## 5. Используя pandas, проведи когортный анализ пользователей. В период с января по декабрь выяви когорту с самым высоким retention на 3й месяц. "
   ]
  },
  {
   "cell_type": "markdown",
   "id": "0a1952f2",
   "metadata": {},
   "source": [
    "• Добавим нужные колонки"
   ]
  },
  {
   "cell_type": "code",
   "execution_count": 34,
   "id": "30479ec4",
   "metadata": {
    "scrolled": false
   },
   "outputs": [
    {
     "data": {
      "text/html": [
       "<div>\n",
       "<style scoped>\n",
       "    .dataframe tbody tr th:only-of-type {\n",
       "        vertical-align: middle;\n",
       "    }\n",
       "\n",
       "    .dataframe tbody tr th {\n",
       "        vertical-align: top;\n",
       "    }\n",
       "\n",
       "    .dataframe thead th {\n",
       "        text-align: right;\n",
       "    }\n",
       "</style>\n",
       "<table border=\"1\" class=\"dataframe\">\n",
       "  <thead>\n",
       "    <tr style=\"text-align: right;\">\n",
       "      <th></th>\n",
       "      <th>customer_id</th>\n",
       "      <th>customer_unique_id</th>\n",
       "      <th>customer_zip_code_prefix</th>\n",
       "      <th>customer_city</th>\n",
       "      <th>customer_state</th>\n",
       "      <th>order_id</th>\n",
       "      <th>order_status</th>\n",
       "      <th>order_purchase_timestamp</th>\n",
       "      <th>order_approved_at</th>\n",
       "      <th>order_delivered_carrier_date</th>\n",
       "      <th>order_delivered_customer_date</th>\n",
       "      <th>order_estimated_delivery_date</th>\n",
       "      <th>year_month</th>\n",
       "      <th>days_in_month</th>\n",
       "      <th>weeks</th>\n",
       "      <th>year</th>\n",
       "      <th>month</th>\n",
       "    </tr>\n",
       "  </thead>\n",
       "  <tbody>\n",
       "    <tr>\n",
       "      <th>0</th>\n",
       "      <td>06b8999e2fba1a1fbc88172c00ba8bc7</td>\n",
       "      <td>861eff4711a542e4b93843c6dd7febb0</td>\n",
       "      <td>14409</td>\n",
       "      <td>franca</td>\n",
       "      <td>SP</td>\n",
       "      <td>00e7ee1b050b8499577073aeb2a297a1</td>\n",
       "      <td>delivered</td>\n",
       "      <td>2017-05-16 15:05:35</td>\n",
       "      <td>2017-05-16 15:22:12</td>\n",
       "      <td>2017-05-23 10:47:57</td>\n",
       "      <td>2017-05-25 10:35:35</td>\n",
       "      <td>2017-06-05</td>\n",
       "      <td>2017-05</td>\n",
       "      <td>31</td>\n",
       "      <td>4.428571</td>\n",
       "      <td>2017</td>\n",
       "      <td>5</td>\n",
       "    </tr>\n",
       "  </tbody>\n",
       "</table>\n",
       "</div>"
      ],
      "text/plain": [
       "                        customer_id                customer_unique_id  \\\n",
       "0  06b8999e2fba1a1fbc88172c00ba8bc7  861eff4711a542e4b93843c6dd7febb0   \n",
       "\n",
       "   customer_zip_code_prefix customer_city customer_state  \\\n",
       "0                     14409        franca             SP   \n",
       "\n",
       "                           order_id order_status order_purchase_timestamp  \\\n",
       "0  00e7ee1b050b8499577073aeb2a297a1    delivered      2017-05-16 15:05:35   \n",
       "\n",
       "    order_approved_at order_delivered_carrier_date  \\\n",
       "0 2017-05-16 15:22:12          2017-05-23 10:47:57   \n",
       "\n",
       "  order_delivered_customer_date order_estimated_delivery_date year_month  \\\n",
       "0           2017-05-25 10:35:35                    2017-06-05    2017-05   \n",
       "\n",
       "   days_in_month     weeks  year  month  \n",
       "0             31  4.428571  2017      5  "
      ]
     },
     "execution_count": 34,
     "metadata": {},
     "output_type": "execute_result"
    }
   ],
   "source": [
    "customers_orders_delivered['year'] = customers_orders_delivered['order_approved_at'].dt.year\n",
    "customers_orders_delivered['month'] = customers_orders_delivered['order_approved_at'].dt.month\n",
    "customers_orders_delivered.head(1)"
   ]
  },
  {
   "cell_type": "markdown",
   "id": "2aa3f29e",
   "metadata": {},
   "source": [
    "• Выделим пользователей, которые совершали покупки в 2016 году, чтобы далее их отфильтровать"
   ]
  },
  {
   "cell_type": "code",
   "execution_count": 45,
   "id": "e624641f",
   "metadata": {},
   "outputs": [],
   "source": [
    "year_2016_customers = customers_orders_delivered.query('year == 2016').customer_unique_id"
   ]
  },
  {
   "cell_type": "markdown",
   "id": "2bf78629",
   "metadata": {},
   "source": [
    "• Найдем в какой месяц пользователи совершили первую покупку"
   ]
  },
  {
   "cell_type": "code",
   "execution_count": 179,
   "id": "43e2b72d",
   "metadata": {},
   "outputs": [
    {
     "data": {
      "text/html": [
       "<div>\n",
       "<style scoped>\n",
       "    .dataframe tbody tr th:only-of-type {\n",
       "        vertical-align: middle;\n",
       "    }\n",
       "\n",
       "    .dataframe tbody tr th {\n",
       "        vertical-align: top;\n",
       "    }\n",
       "\n",
       "    .dataframe thead th {\n",
       "        text-align: right;\n",
       "    }\n",
       "</style>\n",
       "<table border=\"1\" class=\"dataframe\">\n",
       "  <thead>\n",
       "    <tr style=\"text-align: right;\">\n",
       "      <th></th>\n",
       "      <th>customer_unique_id</th>\n",
       "      <th>first_purchase_month</th>\n",
       "    </tr>\n",
       "  </thead>\n",
       "  <tbody>\n",
       "    <tr>\n",
       "      <th>0</th>\n",
       "      <td>0000366f3b9a7992bf8c76cfdf3221e2</td>\n",
       "      <td>5</td>\n",
       "    </tr>\n",
       "  </tbody>\n",
       "</table>\n",
       "</div>"
      ],
      "text/plain": [
       "                 customer_unique_id  first_purchase_month\n",
       "0  0000366f3b9a7992bf8c76cfdf3221e2                     5"
      ]
     },
     "execution_count": 179,
     "metadata": {},
     "output_type": "execute_result"
    }
   ],
   "source": [
    "first_purchase_month = customers_orders_delivered \\\n",
    "    .groupby(['customer_unique_id'], as_index=False) \\\n",
    "    .agg({'month': 'min'}) \\\n",
    "    .rename(columns={'month': 'first_purchase_month'})\n",
    "first_purchase_month.head(1)"
   ]
  },
  {
   "cell_type": "markdown",
   "id": "5f5e4398",
   "metadata": {},
   "source": [
    "• Объединим вместе общую таблицу с таблицей с месяцем первой покупки. Оставим только нужные колонки для дальнейшего анализа"
   ]
  },
  {
   "cell_type": "code",
   "execution_count": 109,
   "id": "9c37e699",
   "metadata": {},
   "outputs": [
    {
     "data": {
      "text/html": [
       "<div>\n",
       "<style scoped>\n",
       "    .dataframe tbody tr th:only-of-type {\n",
       "        vertical-align: middle;\n",
       "    }\n",
       "\n",
       "    .dataframe tbody tr th {\n",
       "        vertical-align: top;\n",
       "    }\n",
       "\n",
       "    .dataframe thead th {\n",
       "        text-align: right;\n",
       "    }\n",
       "</style>\n",
       "<table border=\"1\" class=\"dataframe\">\n",
       "  <thead>\n",
       "    <tr style=\"text-align: right;\">\n",
       "      <th></th>\n",
       "      <th>customer_unique_id</th>\n",
       "      <th>order_id</th>\n",
       "      <th>month</th>\n",
       "      <th>first_purchase_month</th>\n",
       "    </tr>\n",
       "  </thead>\n",
       "  <tbody>\n",
       "    <tr>\n",
       "      <th>0</th>\n",
       "      <td>861eff4711a542e4b93843c6dd7febb0</td>\n",
       "      <td>00e7ee1b050b8499577073aeb2a297a1</td>\n",
       "      <td>5</td>\n",
       "      <td>5</td>\n",
       "    </tr>\n",
       "  </tbody>\n",
       "</table>\n",
       "</div>"
      ],
      "text/plain": [
       "                 customer_unique_id                          order_id  month  \\\n",
       "0  861eff4711a542e4b93843c6dd7febb0  00e7ee1b050b8499577073aeb2a297a1      5   \n",
       "\n",
       "   first_purchase_month  \n",
       "0                     5  "
      ]
     },
     "execution_count": 109,
     "metadata": {},
     "output_type": "execute_result"
    }
   ],
   "source": [
    "pre_cohort_table = customers_orders_delivered.merge(first_purchase_month, on='customer_unique_id') \\\n",
    "    .query('year == 2017 & customer_unique_id not in @year_2016_customers') \\\n",
    "    [['customer_unique_id', 'order_id', 'month', 'first_purchase_month']]\n",
    "pre_cohort_table.head(1)"
   ]
  },
  {
   "cell_type": "markdown",
   "id": "985c84d3",
   "metadata": {},
   "source": [
    "• Добавим колонку с разницей в месяцах"
   ]
  },
  {
   "cell_type": "code",
   "execution_count": 181,
   "id": "e31848c4",
   "metadata": {},
   "outputs": [],
   "source": [
    "pre_cohort_table['month_diff'] = pre_cohort_table.month - pre_cohort_table.first_purchase_month"
   ]
  },
  {
   "cell_type": "markdown",
   "id": "09f16e12",
   "metadata": {},
   "source": [
    "• Сгруппируем по месяце первой покупки (когорте) и разнице в месяцах. Переименуем колонки"
   ]
  },
  {
   "cell_type": "code",
   "execution_count": 183,
   "id": "767db357",
   "metadata": {},
   "outputs": [
    {
     "data": {
      "text/html": [
       "<div>\n",
       "<style scoped>\n",
       "    .dataframe tbody tr th:only-of-type {\n",
       "        vertical-align: middle;\n",
       "    }\n",
       "\n",
       "    .dataframe tbody tr th {\n",
       "        vertical-align: top;\n",
       "    }\n",
       "\n",
       "    .dataframe thead th {\n",
       "        text-align: right;\n",
       "    }\n",
       "</style>\n",
       "<table border=\"1\" class=\"dataframe\">\n",
       "  <thead>\n",
       "    <tr style=\"text-align: right;\">\n",
       "      <th></th>\n",
       "      <th>cohort</th>\n",
       "      <th>cohort_period</th>\n",
       "      <th>order_id</th>\n",
       "    </tr>\n",
       "  </thead>\n",
       "  <tbody>\n",
       "    <tr>\n",
       "      <th>0</th>\n",
       "      <td>1</td>\n",
       "      <td>0</td>\n",
       "      <td>714</td>\n",
       "    </tr>\n",
       "    <tr>\n",
       "      <th>1</th>\n",
       "      <td>1</td>\n",
       "      <td>1</td>\n",
       "      <td>8</td>\n",
       "    </tr>\n",
       "    <tr>\n",
       "      <th>2</th>\n",
       "      <td>1</td>\n",
       "      <td>2</td>\n",
       "      <td>11</td>\n",
       "    </tr>\n",
       "    <tr>\n",
       "      <th>3</th>\n",
       "      <td>1</td>\n",
       "      <td>3</td>\n",
       "      <td>5</td>\n",
       "    </tr>\n",
       "    <tr>\n",
       "      <th>4</th>\n",
       "      <td>1</td>\n",
       "      <td>4</td>\n",
       "      <td>13</td>\n",
       "    </tr>\n",
       "  </tbody>\n",
       "</table>\n",
       "</div>"
      ],
      "text/plain": [
       "   cohort  cohort_period  order_id\n",
       "0       1              0       714\n",
       "1       1              1         8\n",
       "2       1              2        11\n",
       "3       1              3         5\n",
       "4       1              4        13"
      ]
     },
     "execution_count": 183,
     "metadata": {},
     "output_type": "execute_result"
    }
   ],
   "source": [
    "cohort_table = pre_cohort_table \\\n",
    "    .groupby(['first_purchase_month', 'month_diff'], as_index=False).order_id.count() \\\n",
    "    .rename(columns={'first_purchase_month': 'cohort', 'month_diff': 'cohort_period'})\n",
    "cohort_table.head(5)"
   ]
  },
  {
   "cell_type": "code",
   "execution_count": 188,
   "id": "42e86607",
   "metadata": {},
   "outputs": [
    {
     "data": {
      "text/html": [
       "<div>\n",
       "<style scoped>\n",
       "    .dataframe tbody tr th:only-of-type {\n",
       "        vertical-align: middle;\n",
       "    }\n",
       "\n",
       "    .dataframe tbody tr th {\n",
       "        vertical-align: top;\n",
       "    }\n",
       "\n",
       "    .dataframe thead th {\n",
       "        text-align: right;\n",
       "    }\n",
       "</style>\n",
       "<table border=\"1\" class=\"dataframe\">\n",
       "  <thead>\n",
       "    <tr style=\"text-align: right;\">\n",
       "      <th>cohort_period</th>\n",
       "      <th>0</th>\n",
       "      <th>1</th>\n",
       "      <th>2</th>\n",
       "      <th>3</th>\n",
       "      <th>4</th>\n",
       "      <th>5</th>\n",
       "      <th>6</th>\n",
       "      <th>7</th>\n",
       "      <th>8</th>\n",
       "      <th>9</th>\n",
       "      <th>10</th>\n",
       "      <th>11</th>\n",
       "    </tr>\n",
       "    <tr>\n",
       "      <th>cohort</th>\n",
       "      <th></th>\n",
       "      <th></th>\n",
       "      <th></th>\n",
       "      <th></th>\n",
       "      <th></th>\n",
       "      <th></th>\n",
       "      <th></th>\n",
       "      <th></th>\n",
       "      <th></th>\n",
       "      <th></th>\n",
       "      <th></th>\n",
       "      <th></th>\n",
       "    </tr>\n",
       "  </thead>\n",
       "  <tbody>\n",
       "    <tr>\n",
       "      <th>1</th>\n",
       "      <td>714.0</td>\n",
       "      <td>8.0</td>\n",
       "      <td>11.0</td>\n",
       "      <td>5.0</td>\n",
       "      <td>13.0</td>\n",
       "      <td>8.0</td>\n",
       "      <td>16.0</td>\n",
       "      <td>29.0</td>\n",
       "      <td>20.0</td>\n",
       "      <td>6.0</td>\n",
       "      <td>34.0</td>\n",
       "      <td>25.0</td>\n",
       "    </tr>\n",
       "    <tr>\n",
       "      <th>2</th>\n",
       "      <td>1630.0</td>\n",
       "      <td>6.0</td>\n",
       "      <td>10.0</td>\n",
       "      <td>12.0</td>\n",
       "      <td>13.0</td>\n",
       "      <td>6.0</td>\n",
       "      <td>16.0</td>\n",
       "      <td>14.0</td>\n",
       "      <td>14.0</td>\n",
       "      <td>15.0</td>\n",
       "      <td>18.0</td>\n",
       "      <td></td>\n",
       "    </tr>\n",
       "    <tr>\n",
       "      <th>3</th>\n",
       "      <td>2537.0</td>\n",
       "      <td>13.0</td>\n",
       "      <td>18.0</td>\n",
       "      <td>17.0</td>\n",
       "      <td>16.0</td>\n",
       "      <td>15.0</td>\n",
       "      <td>14.0</td>\n",
       "      <td>19.0</td>\n",
       "      <td>22.0</td>\n",
       "      <td>20.0</td>\n",
       "      <td></td>\n",
       "      <td></td>\n",
       "    </tr>\n",
       "    <tr>\n",
       "      <th>4</th>\n",
       "      <td>2249.0</td>\n",
       "      <td>25.0</td>\n",
       "      <td>14.0</td>\n",
       "      <td>13.0</td>\n",
       "      <td>9.0</td>\n",
       "      <td>14.0</td>\n",
       "      <td>21.0</td>\n",
       "      <td>19.0</td>\n",
       "      <td>21.0</td>\n",
       "      <td></td>\n",
       "      <td></td>\n",
       "      <td></td>\n",
       "    </tr>\n",
       "    <tr>\n",
       "      <th>5</th>\n",
       "      <td>3480.0</td>\n",
       "      <td>29.0</td>\n",
       "      <td>25.0</td>\n",
       "      <td>16.0</td>\n",
       "      <td>21.0</td>\n",
       "      <td>27.0</td>\n",
       "      <td>27.0</td>\n",
       "      <td>16.0</td>\n",
       "      <td></td>\n",
       "      <td></td>\n",
       "      <td></td>\n",
       "      <td></td>\n",
       "    </tr>\n",
       "    <tr>\n",
       "      <th>6</th>\n",
       "      <td>3062.0</td>\n",
       "      <td>25.0</td>\n",
       "      <td>22.0</td>\n",
       "      <td>18.0</td>\n",
       "      <td>17.0</td>\n",
       "      <td>21.0</td>\n",
       "      <td>18.0</td>\n",
       "      <td></td>\n",
       "      <td></td>\n",
       "      <td></td>\n",
       "      <td></td>\n",
       "      <td></td>\n",
       "    </tr>\n",
       "    <tr>\n",
       "      <th>7</th>\n",
       "      <td>3726.0</td>\n",
       "      <td>27.0</td>\n",
       "      <td>19.0</td>\n",
       "      <td>15.0</td>\n",
       "      <td>22.0</td>\n",
       "      <td>9.0</td>\n",
       "      <td></td>\n",
       "      <td></td>\n",
       "      <td></td>\n",
       "      <td></td>\n",
       "      <td></td>\n",
       "      <td></td>\n",
       "    </tr>\n",
       "    <tr>\n",
       "      <th>8</th>\n",
       "      <td>4083.0</td>\n",
       "      <td>28.0</td>\n",
       "      <td>23.0</td>\n",
       "      <td>17.0</td>\n",
       "      <td>24.0</td>\n",
       "      <td></td>\n",
       "      <td></td>\n",
       "      <td></td>\n",
       "      <td></td>\n",
       "      <td></td>\n",
       "      <td></td>\n",
       "      <td></td>\n",
       "    </tr>\n",
       "    <tr>\n",
       "      <th>9</th>\n",
       "      <td>4021.0</td>\n",
       "      <td>23.0</td>\n",
       "      <td>17.0</td>\n",
       "      <td>12.0</td>\n",
       "      <td></td>\n",
       "      <td></td>\n",
       "      <td></td>\n",
       "      <td></td>\n",
       "      <td></td>\n",
       "      <td></td>\n",
       "      <td></td>\n",
       "      <td></td>\n",
       "    </tr>\n",
       "    <tr>\n",
       "      <th>10</th>\n",
       "      <td>4276.0</td>\n",
       "      <td>26.0</td>\n",
       "      <td>13.0</td>\n",
       "      <td></td>\n",
       "      <td></td>\n",
       "      <td></td>\n",
       "      <td></td>\n",
       "      <td></td>\n",
       "      <td></td>\n",
       "      <td></td>\n",
       "      <td></td>\n",
       "      <td></td>\n",
       "    </tr>\n",
       "    <tr>\n",
       "      <th>11</th>\n",
       "      <td>6929.0</td>\n",
       "      <td>38.0</td>\n",
       "      <td></td>\n",
       "      <td></td>\n",
       "      <td></td>\n",
       "      <td></td>\n",
       "      <td></td>\n",
       "      <td></td>\n",
       "      <td></td>\n",
       "      <td></td>\n",
       "      <td></td>\n",
       "      <td></td>\n",
       "    </tr>\n",
       "    <tr>\n",
       "      <th>12</th>\n",
       "      <td>5461.0</td>\n",
       "      <td></td>\n",
       "      <td></td>\n",
       "      <td></td>\n",
       "      <td></td>\n",
       "      <td></td>\n",
       "      <td></td>\n",
       "      <td></td>\n",
       "      <td></td>\n",
       "      <td></td>\n",
       "      <td></td>\n",
       "      <td></td>\n",
       "    </tr>\n",
       "  </tbody>\n",
       "</table>\n",
       "</div>"
      ],
      "text/plain": [
       "cohort_period      0     1     2     3     4     5     6     7     8     9   \\\n",
       "cohort                                                                        \n",
       "1               714.0   8.0  11.0   5.0  13.0   8.0  16.0  29.0  20.0   6.0   \n",
       "2              1630.0   6.0  10.0  12.0  13.0   6.0  16.0  14.0  14.0  15.0   \n",
       "3              2537.0  13.0  18.0  17.0  16.0  15.0  14.0  19.0  22.0  20.0   \n",
       "4              2249.0  25.0  14.0  13.0   9.0  14.0  21.0  19.0  21.0         \n",
       "5              3480.0  29.0  25.0  16.0  21.0  27.0  27.0  16.0               \n",
       "6              3062.0  25.0  22.0  18.0  17.0  21.0  18.0                     \n",
       "7              3726.0  27.0  19.0  15.0  22.0   9.0                           \n",
       "8              4083.0  28.0  23.0  17.0  24.0                                 \n",
       "9              4021.0  23.0  17.0  12.0                                       \n",
       "10             4276.0  26.0  13.0                                             \n",
       "11             6929.0  38.0                                                   \n",
       "12             5461.0                                                         \n",
       "\n",
       "cohort_period    10    11  \n",
       "cohort                     \n",
       "1              34.0  25.0  \n",
       "2              18.0        \n",
       "3                          \n",
       "4                          \n",
       "5                          \n",
       "6                          \n",
       "7                          \n",
       "8                          \n",
       "9                          \n",
       "10                         \n",
       "11                         \n",
       "12                         "
      ]
     },
     "execution_count": 188,
     "metadata": {},
     "output_type": "execute_result"
    }
   ],
   "source": [
    "cohort_table.pivot_table(index='cohort', columns='cohort_period', values='order_id').fillna('')"
   ]
  },
  {
   "cell_type": "markdown",
   "id": "deb22a1a",
   "metadata": {},
   "source": [
    "• Вычислим retention и добавим его в когортную таблицу"
   ]
  },
  {
   "cell_type": "code",
   "execution_count": 189,
   "id": "0e6f566b",
   "metadata": {},
   "outputs": [
    {
     "data": {
      "text/html": [
       "<div>\n",
       "<style scoped>\n",
       "    .dataframe tbody tr th:only-of-type {\n",
       "        vertical-align: middle;\n",
       "    }\n",
       "\n",
       "    .dataframe tbody tr th {\n",
       "        vertical-align: top;\n",
       "    }\n",
       "\n",
       "    .dataframe thead th {\n",
       "        text-align: right;\n",
       "    }\n",
       "</style>\n",
       "<table border=\"1\" class=\"dataframe\">\n",
       "  <thead>\n",
       "    <tr style=\"text-align: right;\">\n",
       "      <th></th>\n",
       "      <th>cohort</th>\n",
       "      <th>cohort_period</th>\n",
       "      <th>order_id</th>\n",
       "      <th>first_month_orders</th>\n",
       "      <th>retention</th>\n",
       "    </tr>\n",
       "  </thead>\n",
       "  <tbody>\n",
       "    <tr>\n",
       "      <th>0</th>\n",
       "      <td>1</td>\n",
       "      <td>0</td>\n",
       "      <td>714</td>\n",
       "      <td>714</td>\n",
       "      <td>1.000000</td>\n",
       "    </tr>\n",
       "    <tr>\n",
       "      <th>1</th>\n",
       "      <td>1</td>\n",
       "      <td>1</td>\n",
       "      <td>8</td>\n",
       "      <td>714</td>\n",
       "      <td>0.011204</td>\n",
       "    </tr>\n",
       "    <tr>\n",
       "      <th>2</th>\n",
       "      <td>1</td>\n",
       "      <td>2</td>\n",
       "      <td>11</td>\n",
       "      <td>714</td>\n",
       "      <td>0.015406</td>\n",
       "    </tr>\n",
       "  </tbody>\n",
       "</table>\n",
       "</div>"
      ],
      "text/plain": [
       "   cohort  cohort_period  order_id  first_month_orders  retention\n",
       "0       1              0       714                 714   1.000000\n",
       "1       1              1         8                 714   0.011204\n",
       "2       1              2        11                 714   0.015406"
      ]
     },
     "execution_count": 189,
     "metadata": {},
     "output_type": "execute_result"
    }
   ],
   "source": [
    "first_month_orders = cohort_table.query('cohort_period == 0').rename(columns={'order_id': 'first_month_orders'})\n",
    "\n",
    "retention_table = cohort_table.merge(first_month_orders, on=['cohort']) \\\n",
    "    .drop(columns='cohort_period_y') \\\n",
    "    .rename(columns={'cohort_period_x': 'cohort_period'})\n",
    "\n",
    "retention_table['retention'] = round(retention_table.order_id / retention_table.first_month_orders, 6)\n",
    "retention_table.head(3)"
   ]
  },
  {
   "cell_type": "markdown",
   "id": "41b7c406",
   "metadata": {},
   "source": [
    "• Создадим финальную таблицу, добавим стиль"
   ]
  },
  {
   "cell_type": "code",
   "execution_count": 190,
   "id": "c10d2cc5",
   "metadata": {},
   "outputs": [
    {
     "data": {
      "text/html": [
       "<style type=\"text/css\">\n",
       "#T_91dec_row0_col0, #T_91dec_row0_col11, #T_91dec_row1_col0, #T_91dec_row1_col1, #T_91dec_row1_col8, #T_91dec_row1_col10, #T_91dec_row2_col0, #T_91dec_row2_col6, #T_91dec_row2_col9, #T_91dec_row3_col0, #T_91dec_row3_col4, #T_91dec_row4_col0, #T_91dec_row4_col7, #T_91dec_row5_col0, #T_91dec_row6_col0, #T_91dec_row6_col5, #T_91dec_row7_col0, #T_91dec_row8_col0, #T_91dec_row8_col3, #T_91dec_row9_col0, #T_91dec_row9_col2, #T_91dec_row10_col0, #T_91dec_row11_col0 {\n",
       "  background-color: #fff7fb;\n",
       "  color: #000000;\n",
       "}\n",
       "#T_91dec_row0_col1, #T_91dec_row0_col2, #T_91dec_row0_col4, #T_91dec_row0_col5, #T_91dec_row0_col6, #T_91dec_row0_col7, #T_91dec_row0_col8, #T_91dec_row0_col10, #T_91dec_row1_col3, #T_91dec_row1_col9 {\n",
       "  background-color: #023858;\n",
       "  color: #f1f1f1;\n",
       "}\n",
       "#T_91dec_row0_col3 {\n",
       "  background-color: #034d79;\n",
       "  color: #f1f1f1;\n",
       "}\n",
       "#T_91dec_row0_col9 {\n",
       "  background-color: #9fbad9;\n",
       "  color: #000000;\n",
       "}\n",
       "#T_91dec_row1_col2 {\n",
       "  background-color: #d0d1e6;\n",
       "  color: #000000;\n",
       "}\n",
       "#T_91dec_row1_col4 {\n",
       "  background-color: #c6cce3;\n",
       "  color: #000000;\n",
       "}\n",
       "#T_91dec_row1_col5, #T_91dec_row4_col4 {\n",
       "  background-color: #e8e4f0;\n",
       "  color: #000000;\n",
       "}\n",
       "#T_91dec_row1_col6, #T_91dec_row3_col2 {\n",
       "  background-color: #ced0e6;\n",
       "  color: #000000;\n",
       "}\n",
       "#T_91dec_row1_col7 {\n",
       "  background-color: #eee9f3;\n",
       "  color: #000000;\n",
       "}\n",
       "#T_91dec_row1_col11, #T_91dec_row2_col11, #T_91dec_row3_col11, #T_91dec_row4_col11, #T_91dec_row5_col11, #T_91dec_row6_col11, #T_91dec_row7_col11, #T_91dec_row8_col11, #T_91dec_row9_col11, #T_91dec_row10_col11, #T_91dec_row11_col11 {\n",
       "  background-color: #fff7fb;\n",
       "  color: #000000;\n",
       "  background-color: white;\n",
       "}\n",
       "#T_91dec_row2_col1 {\n",
       "  background-color: #dddbec;\n",
       "  color: #000000;\n",
       "}\n",
       "#T_91dec_row2_col2 {\n",
       "  background-color: #b7c5df;\n",
       "  color: #000000;\n",
       "}\n",
       "#T_91dec_row2_col3 {\n",
       "  background-color: #045e94;\n",
       "  color: #f1f1f1;\n",
       "}\n",
       "#T_91dec_row2_col4 {\n",
       "  background-color: #e4e1ef;\n",
       "  color: #000000;\n",
       "}\n",
       "#T_91dec_row2_col5 {\n",
       "  background-color: #9ebad9;\n",
       "  color: #000000;\n",
       "}\n",
       "#T_91dec_row2_col7 {\n",
       "  background-color: #f3edf5;\n",
       "  color: #000000;\n",
       "}\n",
       "#T_91dec_row2_col8 {\n",
       "  background-color: #fef6fb;\n",
       "  color: #000000;\n",
       "}\n",
       "#T_91dec_row2_col10, #T_91dec_row3_col9, #T_91dec_row3_col10, #T_91dec_row4_col8, #T_91dec_row4_col9, #T_91dec_row4_col10, #T_91dec_row5_col7, #T_91dec_row5_col8, #T_91dec_row5_col9, #T_91dec_row5_col10, #T_91dec_row6_col6, #T_91dec_row6_col7, #T_91dec_row6_col8, #T_91dec_row6_col9, #T_91dec_row6_col10, #T_91dec_row7_col5, #T_91dec_row7_col6, #T_91dec_row7_col7, #T_91dec_row7_col8, #T_91dec_row7_col9, #T_91dec_row7_col10, #T_91dec_row8_col4, #T_91dec_row8_col5, #T_91dec_row8_col6, #T_91dec_row8_col7, #T_91dec_row8_col8, #T_91dec_row8_col9, #T_91dec_row8_col10, #T_91dec_row9_col3, #T_91dec_row9_col4, #T_91dec_row9_col5, #T_91dec_row9_col6, #T_91dec_row9_col7, #T_91dec_row9_col8, #T_91dec_row9_col9, #T_91dec_row9_col10, #T_91dec_row10_col2, #T_91dec_row10_col3, #T_91dec_row10_col4, #T_91dec_row10_col5, #T_91dec_row10_col6, #T_91dec_row10_col7, #T_91dec_row10_col8, #T_91dec_row10_col9, #T_91dec_row10_col10, #T_91dec_row11_col1, #T_91dec_row11_col2, #T_91dec_row11_col3, #T_91dec_row11_col4, #T_91dec_row11_col5, #T_91dec_row11_col6, #T_91dec_row11_col7, #T_91dec_row11_col8, #T_91dec_row11_col9, #T_91dec_row11_col10 {\n",
       "  background-color: #000000;\n",
       "  color: #f1f1f1;\n",
       "  background-color: white;\n",
       "}\n",
       "#T_91dec_row3_col1 {\n",
       "  background-color: #023a5b;\n",
       "  color: #f1f1f1;\n",
       "}\n",
       "#T_91dec_row3_col3 {\n",
       "  background-color: #308cbe;\n",
       "  color: #f1f1f1;\n",
       "}\n",
       "#T_91dec_row3_col5 {\n",
       "  background-color: #8fb4d6;\n",
       "  color: #000000;\n",
       "}\n",
       "#T_91dec_row3_col6 {\n",
       "  background-color: #d6d6e9;\n",
       "  color: #000000;\n",
       "}\n",
       "#T_91dec_row3_col7, #T_91dec_row5_col4 {\n",
       "  background-color: #efe9f3;\n",
       "  color: #000000;\n",
       "}\n",
       "#T_91dec_row3_col8 {\n",
       "  background-color: #faf2f8;\n",
       "  color: #000000;\n",
       "}\n",
       "#T_91dec_row4_col1 {\n",
       "  background-color: #3991c1;\n",
       "  color: #f1f1f1;\n",
       "}\n",
       "#T_91dec_row4_col2, #T_91dec_row5_col2 {\n",
       "  background-color: #b4c4df;\n",
       "  color: #000000;\n",
       "}\n",
       "#T_91dec_row4_col3 {\n",
       "  background-color: #a8bedc;\n",
       "  color: #000000;\n",
       "}\n",
       "#T_91dec_row4_col5 {\n",
       "  background-color: #3f93c2;\n",
       "  color: #f1f1f1;\n",
       "}\n",
       "#T_91dec_row4_col6, #T_91dec_row7_col4 {\n",
       "  background-color: #ebe6f2;\n",
       "  color: #000000;\n",
       "}\n",
       "#T_91dec_row5_col1 {\n",
       "  background-color: #4496c3;\n",
       "  color: #f1f1f1;\n",
       "}\n",
       "#T_91dec_row5_col3 {\n",
       "  background-color: #2786bb;\n",
       "  color: #f1f1f1;\n",
       "}\n",
       "#T_91dec_row5_col5 {\n",
       "  background-color: #71a8ce;\n",
       "  color: #f1f1f1;\n",
       "}\n",
       "#T_91dec_row5_col6 {\n",
       "  background-color: #fcf4fa;\n",
       "  color: #000000;\n",
       "}\n",
       "#T_91dec_row6_col1 {\n",
       "  background-color: #7eadd1;\n",
       "  color: #f1f1f1;\n",
       "}\n",
       "#T_91dec_row6_col2 {\n",
       "  background-color: #e3e0ee;\n",
       "  color: #000000;\n",
       "}\n",
       "#T_91dec_row6_col3 {\n",
       "  background-color: #d3d4e7;\n",
       "  color: #000000;\n",
       "}\n",
       "#T_91dec_row6_col4 {\n",
       "  background-color: #eae6f1;\n",
       "  color: #000000;\n",
       "}\n",
       "#T_91dec_row7_col1 {\n",
       "  background-color: #93b5d6;\n",
       "  color: #000000;\n",
       "}\n",
       "#T_91dec_row7_col2 {\n",
       "  background-color: #d9d8ea;\n",
       "  color: #000000;\n",
       "}\n",
       "#T_91dec_row7_col3 {\n",
       "  background-color: #cacee5;\n",
       "  color: #000000;\n",
       "}\n",
       "#T_91dec_row8_col1 {\n",
       "  background-color: #c9cee4;\n",
       "  color: #000000;\n",
       "}\n",
       "#T_91dec_row8_col2 {\n",
       "  background-color: #f1ebf4;\n",
       "  color: #000000;\n",
       "}\n",
       "#T_91dec_row9_col1 {\n",
       "  background-color: #b9c6e0;\n",
       "  color: #000000;\n",
       "}\n",
       "#T_91dec_row10_col1 {\n",
       "  background-color: #d2d3e7;\n",
       "  color: #000000;\n",
       "}\n",
       "</style>\n",
       "<table id=\"T_91dec\">\n",
       "  <caption>User retention by cohort</caption>\n",
       "  <thead>\n",
       "    <tr>\n",
       "      <th class=\"index_name level0\" >cohort_period</th>\n",
       "      <th id=\"T_91dec_level0_col0\" class=\"col_heading level0 col0\" >0</th>\n",
       "      <th id=\"T_91dec_level0_col1\" class=\"col_heading level0 col1\" >1</th>\n",
       "      <th id=\"T_91dec_level0_col2\" class=\"col_heading level0 col2\" >2</th>\n",
       "      <th id=\"T_91dec_level0_col3\" class=\"col_heading level0 col3\" >3</th>\n",
       "      <th id=\"T_91dec_level0_col4\" class=\"col_heading level0 col4\" >4</th>\n",
       "      <th id=\"T_91dec_level0_col5\" class=\"col_heading level0 col5\" >5</th>\n",
       "      <th id=\"T_91dec_level0_col6\" class=\"col_heading level0 col6\" >6</th>\n",
       "      <th id=\"T_91dec_level0_col7\" class=\"col_heading level0 col7\" >7</th>\n",
       "      <th id=\"T_91dec_level0_col8\" class=\"col_heading level0 col8\" >8</th>\n",
       "      <th id=\"T_91dec_level0_col9\" class=\"col_heading level0 col9\" >9</th>\n",
       "      <th id=\"T_91dec_level0_col10\" class=\"col_heading level0 col10\" >10</th>\n",
       "      <th id=\"T_91dec_level0_col11\" class=\"col_heading level0 col11\" >11</th>\n",
       "    </tr>\n",
       "    <tr>\n",
       "      <th class=\"index_name level0\" >cohort</th>\n",
       "      <th class=\"blank col0\" >&nbsp;</th>\n",
       "      <th class=\"blank col1\" >&nbsp;</th>\n",
       "      <th class=\"blank col2\" >&nbsp;</th>\n",
       "      <th class=\"blank col3\" >&nbsp;</th>\n",
       "      <th class=\"blank col4\" >&nbsp;</th>\n",
       "      <th class=\"blank col5\" >&nbsp;</th>\n",
       "      <th class=\"blank col6\" >&nbsp;</th>\n",
       "      <th class=\"blank col7\" >&nbsp;</th>\n",
       "      <th class=\"blank col8\" >&nbsp;</th>\n",
       "      <th class=\"blank col9\" >&nbsp;</th>\n",
       "      <th class=\"blank col10\" >&nbsp;</th>\n",
       "      <th class=\"blank col11\" >&nbsp;</th>\n",
       "    </tr>\n",
       "  </thead>\n",
       "  <tbody>\n",
       "    <tr>\n",
       "      <th id=\"T_91dec_level0_row0\" class=\"row_heading level0 row0\" >1</th>\n",
       "      <td id=\"T_91dec_row0_col0\" class=\"data row0 col0\" >100.00%</td>\n",
       "      <td id=\"T_91dec_row0_col1\" class=\"data row0 col1\" >1.12%</td>\n",
       "      <td id=\"T_91dec_row0_col2\" class=\"data row0 col2\" >1.54%</td>\n",
       "      <td id=\"T_91dec_row0_col3\" class=\"data row0 col3\" >0.70%</td>\n",
       "      <td id=\"T_91dec_row0_col4\" class=\"data row0 col4\" >1.82%</td>\n",
       "      <td id=\"T_91dec_row0_col5\" class=\"data row0 col5\" >1.12%</td>\n",
       "      <td id=\"T_91dec_row0_col6\" class=\"data row0 col6\" >2.24%</td>\n",
       "      <td id=\"T_91dec_row0_col7\" class=\"data row0 col7\" >4.06%</td>\n",
       "      <td id=\"T_91dec_row0_col8\" class=\"data row0 col8\" >2.80%</td>\n",
       "      <td id=\"T_91dec_row0_col9\" class=\"data row0 col9\" >0.84%</td>\n",
       "      <td id=\"T_91dec_row0_col10\" class=\"data row0 col10\" >4.76%</td>\n",
       "      <td id=\"T_91dec_row0_col11\" class=\"data row0 col11\" >3.50%</td>\n",
       "    </tr>\n",
       "    <tr>\n",
       "      <th id=\"T_91dec_level0_row1\" class=\"row_heading level0 row1\" >2</th>\n",
       "      <td id=\"T_91dec_row1_col0\" class=\"data row1 col0\" >100.00%</td>\n",
       "      <td id=\"T_91dec_row1_col1\" class=\"data row1 col1\" >0.37%</td>\n",
       "      <td id=\"T_91dec_row1_col2\" class=\"data row1 col2\" >0.61%</td>\n",
       "      <td id=\"T_91dec_row1_col3\" class=\"data row1 col3\" >0.74%</td>\n",
       "      <td id=\"T_91dec_row1_col4\" class=\"data row1 col4\" >0.80%</td>\n",
       "      <td id=\"T_91dec_row1_col5\" class=\"data row1 col5\" >0.37%</td>\n",
       "      <td id=\"T_91dec_row1_col6\" class=\"data row1 col6\" >0.98%</td>\n",
       "      <td id=\"T_91dec_row1_col7\" class=\"data row1 col7\" >0.86%</td>\n",
       "      <td id=\"T_91dec_row1_col8\" class=\"data row1 col8\" >0.86%</td>\n",
       "      <td id=\"T_91dec_row1_col9\" class=\"data row1 col9\" >0.92%</td>\n",
       "      <td id=\"T_91dec_row1_col10\" class=\"data row1 col10\" >1.10%</td>\n",
       "      <td id=\"T_91dec_row1_col11\" class=\"data row1 col11\" ></td>\n",
       "    </tr>\n",
       "    <tr>\n",
       "      <th id=\"T_91dec_level0_row2\" class=\"row_heading level0 row2\" >3</th>\n",
       "      <td id=\"T_91dec_row2_col0\" class=\"data row2 col0\" >100.00%</td>\n",
       "      <td id=\"T_91dec_row2_col1\" class=\"data row2 col1\" >0.51%</td>\n",
       "      <td id=\"T_91dec_row2_col2\" class=\"data row2 col2\" >0.71%</td>\n",
       "      <td id=\"T_91dec_row2_col3\" class=\"data row2 col3\" >0.67%</td>\n",
       "      <td id=\"T_91dec_row2_col4\" class=\"data row2 col4\" >0.63%</td>\n",
       "      <td id=\"T_91dec_row2_col5\" class=\"data row2 col5\" >0.59%</td>\n",
       "      <td id=\"T_91dec_row2_col6\" class=\"data row2 col6\" >0.55%</td>\n",
       "      <td id=\"T_91dec_row2_col7\" class=\"data row2 col7\" >0.75%</td>\n",
       "      <td id=\"T_91dec_row2_col8\" class=\"data row2 col8\" >0.87%</td>\n",
       "      <td id=\"T_91dec_row2_col9\" class=\"data row2 col9\" >0.79%</td>\n",
       "      <td id=\"T_91dec_row2_col10\" class=\"data row2 col10\" ></td>\n",
       "      <td id=\"T_91dec_row2_col11\" class=\"data row2 col11\" ></td>\n",
       "    </tr>\n",
       "    <tr>\n",
       "      <th id=\"T_91dec_level0_row3\" class=\"row_heading level0 row3\" >4</th>\n",
       "      <td id=\"T_91dec_row3_col0\" class=\"data row3 col0\" >100.00%</td>\n",
       "      <td id=\"T_91dec_row3_col1\" class=\"data row3 col1\" >1.11%</td>\n",
       "      <td id=\"T_91dec_row3_col2\" class=\"data row3 col2\" >0.62%</td>\n",
       "      <td id=\"T_91dec_row3_col3\" class=\"data row3 col3\" >0.58%</td>\n",
       "      <td id=\"T_91dec_row3_col4\" class=\"data row3 col4\" >0.40%</td>\n",
       "      <td id=\"T_91dec_row3_col5\" class=\"data row3 col5\" >0.62%</td>\n",
       "      <td id=\"T_91dec_row3_col6\" class=\"data row3 col6\" >0.93%</td>\n",
       "      <td id=\"T_91dec_row3_col7\" class=\"data row3 col7\" >0.84%</td>\n",
       "      <td id=\"T_91dec_row3_col8\" class=\"data row3 col8\" >0.93%</td>\n",
       "      <td id=\"T_91dec_row3_col9\" class=\"data row3 col9\" ></td>\n",
       "      <td id=\"T_91dec_row3_col10\" class=\"data row3 col10\" ></td>\n",
       "      <td id=\"T_91dec_row3_col11\" class=\"data row3 col11\" ></td>\n",
       "    </tr>\n",
       "    <tr>\n",
       "      <th id=\"T_91dec_level0_row4\" class=\"row_heading level0 row4\" >5</th>\n",
       "      <td id=\"T_91dec_row4_col0\" class=\"data row4 col0\" >100.00%</td>\n",
       "      <td id=\"T_91dec_row4_col1\" class=\"data row4 col1\" >0.83%</td>\n",
       "      <td id=\"T_91dec_row4_col2\" class=\"data row4 col2\" >0.72%</td>\n",
       "      <td id=\"T_91dec_row4_col3\" class=\"data row4 col3\" >0.46%</td>\n",
       "      <td id=\"T_91dec_row4_col4\" class=\"data row4 col4\" >0.60%</td>\n",
       "      <td id=\"T_91dec_row4_col5\" class=\"data row4 col5\" >0.78%</td>\n",
       "      <td id=\"T_91dec_row4_col6\" class=\"data row4 col6\" >0.78%</td>\n",
       "      <td id=\"T_91dec_row4_col7\" class=\"data row4 col7\" >0.46%</td>\n",
       "      <td id=\"T_91dec_row4_col8\" class=\"data row4 col8\" ></td>\n",
       "      <td id=\"T_91dec_row4_col9\" class=\"data row4 col9\" ></td>\n",
       "      <td id=\"T_91dec_row4_col10\" class=\"data row4 col10\" ></td>\n",
       "      <td id=\"T_91dec_row4_col11\" class=\"data row4 col11\" ></td>\n",
       "    </tr>\n",
       "    <tr>\n",
       "      <th id=\"T_91dec_level0_row5\" class=\"row_heading level0 row5\" >6</th>\n",
       "      <td id=\"T_91dec_row5_col0\" class=\"data row5 col0\" >100.00%</td>\n",
       "      <td id=\"T_91dec_row5_col1\" class=\"data row5 col1\" >0.82%</td>\n",
       "      <td id=\"T_91dec_row5_col2\" class=\"data row5 col2\" >0.72%</td>\n",
       "      <td id=\"T_91dec_row5_col3\" class=\"data row5 col3\" >0.59%</td>\n",
       "      <td id=\"T_91dec_row5_col4\" class=\"data row5 col4\" >0.56%</td>\n",
       "      <td id=\"T_91dec_row5_col5\" class=\"data row5 col5\" >0.69%</td>\n",
       "      <td id=\"T_91dec_row5_col6\" class=\"data row5 col6\" >0.59%</td>\n",
       "      <td id=\"T_91dec_row5_col7\" class=\"data row5 col7\" ></td>\n",
       "      <td id=\"T_91dec_row5_col8\" class=\"data row5 col8\" ></td>\n",
       "      <td id=\"T_91dec_row5_col9\" class=\"data row5 col9\" ></td>\n",
       "      <td id=\"T_91dec_row5_col10\" class=\"data row5 col10\" ></td>\n",
       "      <td id=\"T_91dec_row5_col11\" class=\"data row5 col11\" ></td>\n",
       "    </tr>\n",
       "    <tr>\n",
       "      <th id=\"T_91dec_level0_row6\" class=\"row_heading level0 row6\" >7</th>\n",
       "      <td id=\"T_91dec_row6_col0\" class=\"data row6 col0\" >100.00%</td>\n",
       "      <td id=\"T_91dec_row6_col1\" class=\"data row6 col1\" >0.72%</td>\n",
       "      <td id=\"T_91dec_row6_col2\" class=\"data row6 col2\" >0.51%</td>\n",
       "      <td id=\"T_91dec_row6_col3\" class=\"data row6 col3\" >0.40%</td>\n",
       "      <td id=\"T_91dec_row6_col4\" class=\"data row6 col4\" >0.59%</td>\n",
       "      <td id=\"T_91dec_row6_col5\" class=\"data row6 col5\" >0.24%</td>\n",
       "      <td id=\"T_91dec_row6_col6\" class=\"data row6 col6\" ></td>\n",
       "      <td id=\"T_91dec_row6_col7\" class=\"data row6 col7\" ></td>\n",
       "      <td id=\"T_91dec_row6_col8\" class=\"data row6 col8\" ></td>\n",
       "      <td id=\"T_91dec_row6_col9\" class=\"data row6 col9\" ></td>\n",
       "      <td id=\"T_91dec_row6_col10\" class=\"data row6 col10\" ></td>\n",
       "      <td id=\"T_91dec_row6_col11\" class=\"data row6 col11\" ></td>\n",
       "    </tr>\n",
       "    <tr>\n",
       "      <th id=\"T_91dec_level0_row7\" class=\"row_heading level0 row7\" >8</th>\n",
       "      <td id=\"T_91dec_row7_col0\" class=\"data row7 col0\" >100.00%</td>\n",
       "      <td id=\"T_91dec_row7_col1\" class=\"data row7 col1\" >0.69%</td>\n",
       "      <td id=\"T_91dec_row7_col2\" class=\"data row7 col2\" >0.56%</td>\n",
       "      <td id=\"T_91dec_row7_col3\" class=\"data row7 col3\" >0.42%</td>\n",
       "      <td id=\"T_91dec_row7_col4\" class=\"data row7 col4\" >0.59%</td>\n",
       "      <td id=\"T_91dec_row7_col5\" class=\"data row7 col5\" ></td>\n",
       "      <td id=\"T_91dec_row7_col6\" class=\"data row7 col6\" ></td>\n",
       "      <td id=\"T_91dec_row7_col7\" class=\"data row7 col7\" ></td>\n",
       "      <td id=\"T_91dec_row7_col8\" class=\"data row7 col8\" ></td>\n",
       "      <td id=\"T_91dec_row7_col9\" class=\"data row7 col9\" ></td>\n",
       "      <td id=\"T_91dec_row7_col10\" class=\"data row7 col10\" ></td>\n",
       "      <td id=\"T_91dec_row7_col11\" class=\"data row7 col11\" ></td>\n",
       "    </tr>\n",
       "    <tr>\n",
       "      <th id=\"T_91dec_level0_row8\" class=\"row_heading level0 row8\" >9</th>\n",
       "      <td id=\"T_91dec_row8_col0\" class=\"data row8 col0\" >100.00%</td>\n",
       "      <td id=\"T_91dec_row8_col1\" class=\"data row8 col1\" >0.57%</td>\n",
       "      <td id=\"T_91dec_row8_col2\" class=\"data row8 col2\" >0.42%</td>\n",
       "      <td id=\"T_91dec_row8_col3\" class=\"data row8 col3\" >0.30%</td>\n",
       "      <td id=\"T_91dec_row8_col4\" class=\"data row8 col4\" ></td>\n",
       "      <td id=\"T_91dec_row8_col5\" class=\"data row8 col5\" ></td>\n",
       "      <td id=\"T_91dec_row8_col6\" class=\"data row8 col6\" ></td>\n",
       "      <td id=\"T_91dec_row8_col7\" class=\"data row8 col7\" ></td>\n",
       "      <td id=\"T_91dec_row8_col8\" class=\"data row8 col8\" ></td>\n",
       "      <td id=\"T_91dec_row8_col9\" class=\"data row8 col9\" ></td>\n",
       "      <td id=\"T_91dec_row8_col10\" class=\"data row8 col10\" ></td>\n",
       "      <td id=\"T_91dec_row8_col11\" class=\"data row8 col11\" ></td>\n",
       "    </tr>\n",
       "    <tr>\n",
       "      <th id=\"T_91dec_level0_row9\" class=\"row_heading level0 row9\" >10</th>\n",
       "      <td id=\"T_91dec_row9_col0\" class=\"data row9 col0\" >100.00%</td>\n",
       "      <td id=\"T_91dec_row9_col1\" class=\"data row9 col1\" >0.61%</td>\n",
       "      <td id=\"T_91dec_row9_col2\" class=\"data row9 col2\" >0.30%</td>\n",
       "      <td id=\"T_91dec_row9_col3\" class=\"data row9 col3\" ></td>\n",
       "      <td id=\"T_91dec_row9_col4\" class=\"data row9 col4\" ></td>\n",
       "      <td id=\"T_91dec_row9_col5\" class=\"data row9 col5\" ></td>\n",
       "      <td id=\"T_91dec_row9_col6\" class=\"data row9 col6\" ></td>\n",
       "      <td id=\"T_91dec_row9_col7\" class=\"data row9 col7\" ></td>\n",
       "      <td id=\"T_91dec_row9_col8\" class=\"data row9 col8\" ></td>\n",
       "      <td id=\"T_91dec_row9_col9\" class=\"data row9 col9\" ></td>\n",
       "      <td id=\"T_91dec_row9_col10\" class=\"data row9 col10\" ></td>\n",
       "      <td id=\"T_91dec_row9_col11\" class=\"data row9 col11\" ></td>\n",
       "    </tr>\n",
       "    <tr>\n",
       "      <th id=\"T_91dec_level0_row10\" class=\"row_heading level0 row10\" >11</th>\n",
       "      <td id=\"T_91dec_row10_col0\" class=\"data row10 col0\" >100.00%</td>\n",
       "      <td id=\"T_91dec_row10_col1\" class=\"data row10 col1\" >0.55%</td>\n",
       "      <td id=\"T_91dec_row10_col2\" class=\"data row10 col2\" ></td>\n",
       "      <td id=\"T_91dec_row10_col3\" class=\"data row10 col3\" ></td>\n",
       "      <td id=\"T_91dec_row10_col4\" class=\"data row10 col4\" ></td>\n",
       "      <td id=\"T_91dec_row10_col5\" class=\"data row10 col5\" ></td>\n",
       "      <td id=\"T_91dec_row10_col6\" class=\"data row10 col6\" ></td>\n",
       "      <td id=\"T_91dec_row10_col7\" class=\"data row10 col7\" ></td>\n",
       "      <td id=\"T_91dec_row10_col8\" class=\"data row10 col8\" ></td>\n",
       "      <td id=\"T_91dec_row10_col9\" class=\"data row10 col9\" ></td>\n",
       "      <td id=\"T_91dec_row10_col10\" class=\"data row10 col10\" ></td>\n",
       "      <td id=\"T_91dec_row10_col11\" class=\"data row10 col11\" ></td>\n",
       "    </tr>\n",
       "    <tr>\n",
       "      <th id=\"T_91dec_level0_row11\" class=\"row_heading level0 row11\" >12</th>\n",
       "      <td id=\"T_91dec_row11_col0\" class=\"data row11 col0\" >100.00%</td>\n",
       "      <td id=\"T_91dec_row11_col1\" class=\"data row11 col1\" ></td>\n",
       "      <td id=\"T_91dec_row11_col2\" class=\"data row11 col2\" ></td>\n",
       "      <td id=\"T_91dec_row11_col3\" class=\"data row11 col3\" ></td>\n",
       "      <td id=\"T_91dec_row11_col4\" class=\"data row11 col4\" ></td>\n",
       "      <td id=\"T_91dec_row11_col5\" class=\"data row11 col5\" ></td>\n",
       "      <td id=\"T_91dec_row11_col6\" class=\"data row11 col6\" ></td>\n",
       "      <td id=\"T_91dec_row11_col7\" class=\"data row11 col7\" ></td>\n",
       "      <td id=\"T_91dec_row11_col8\" class=\"data row11 col8\" ></td>\n",
       "      <td id=\"T_91dec_row11_col9\" class=\"data row11 col9\" ></td>\n",
       "      <td id=\"T_91dec_row11_col10\" class=\"data row11 col10\" ></td>\n",
       "      <td id=\"T_91dec_row11_col11\" class=\"data row11 col11\" ></td>\n",
       "    </tr>\n",
       "  </tbody>\n",
       "</table>\n"
      ],
      "text/plain": [
       "<pandas.io.formats.style.Styler at 0x2d3849a0>"
      ]
     },
     "execution_count": 190,
     "metadata": {},
     "output_type": "execute_result"
    }
   ],
   "source": [
    "final_retention_table = (retention_table.pivot_table(index='cohort', columns='cohort_period', values='retention')\n",
    "     .style\n",
    "     .set_caption('User retention by cohort')\n",
    "     .background_gradient()\n",
    "     .highlight_null('white')\n",
    "     .format(\"{:.2%}\", na_rep=\"\")\n",
    ")\n",
    "final_retention_table"
   ]
  },
  {
   "cell_type": "markdown",
   "id": "0b4dffb9",
   "metadata": {},
   "source": [
    "### Ответ: \n",
    "В период с января по декабрь 2017 года, самый высокий retention на 3й месяц был у пользователей, совершивших первую покупку в феврале. Он равнялся около `0.74%`"
   ]
  },
  {
   "cell_type": "markdown",
   "id": "f14db660",
   "metadata": {},
   "source": [
    "## 6.  Используя python, построй RFM-сегментацию пользователей, чтобы качественно оценить свою аудиторию. \n",
    "В кластеризации можешь выбрать следующие метрики: R - время от последней покупки пользователя до текущей даты, F - суммарное количество покупок у пользователя за всё время, M - сумма покупок за всё время. Подробно опиши, как ты создавал кластеры. Для каждого RFM-сегмента построй границы метрик recency, frequency и monetary для интерпретации этих кластеров. Пример такого описания: RFM-сегмент 132 (recency=1, frequency=3, monetary=2) имеет границы метрик recency от 130 до 500 дней, frequency от 2 до 5 заказов в неделю, monetary от 1780 до 3560 рублей в неделю. "
   ]
  },
  {
   "cell_type": "markdown",
   "id": "ef064634",
   "metadata": {},
   "source": [
    "Recency (r) - как давно что-то покупал?    \n",
    "Frequency (f) - как часто покупал?  \n",
    "Monetary (m) - сколько денег потратил?  "
   ]
  },
  {
   "cell_type": "markdown",
   "id": "80972b92",
   "metadata": {},
   "source": [
    "• Объединим все три таблицы, чтоб был доступ ко всей информации."
   ]
  },
  {
   "cell_type": "code",
   "execution_count": 229,
   "id": "c4f7ea1f",
   "metadata": {},
   "outputs": [
    {
     "data": {
      "text/html": [
       "<div>\n",
       "<style scoped>\n",
       "    .dataframe tbody tr th:only-of-type {\n",
       "        vertical-align: middle;\n",
       "    }\n",
       "\n",
       "    .dataframe tbody tr th {\n",
       "        vertical-align: top;\n",
       "    }\n",
       "\n",
       "    .dataframe thead th {\n",
       "        text-align: right;\n",
       "    }\n",
       "</style>\n",
       "<table border=\"1\" class=\"dataframe\">\n",
       "  <thead>\n",
       "    <tr style=\"text-align: right;\">\n",
       "      <th></th>\n",
       "      <th>customer_id</th>\n",
       "      <th>customer_unique_id</th>\n",
       "      <th>customer_zip_code_prefix</th>\n",
       "      <th>customer_city</th>\n",
       "      <th>customer_state</th>\n",
       "      <th>order_id</th>\n",
       "      <th>order_status</th>\n",
       "      <th>order_purchase_timestamp</th>\n",
       "      <th>order_approved_at</th>\n",
       "      <th>order_delivered_carrier_date</th>\n",
       "      <th>...</th>\n",
       "      <th>days_in_month</th>\n",
       "      <th>weeks</th>\n",
       "      <th>year</th>\n",
       "      <th>month</th>\n",
       "      <th>order_item_id</th>\n",
       "      <th>product_id</th>\n",
       "      <th>seller_id</th>\n",
       "      <th>shipping_limit_date</th>\n",
       "      <th>price</th>\n",
       "      <th>freight_value</th>\n",
       "    </tr>\n",
       "  </thead>\n",
       "  <tbody>\n",
       "    <tr>\n",
       "      <th>0</th>\n",
       "      <td>06b8999e2fba1a1fbc88172c00ba8bc7</td>\n",
       "      <td>861eff4711a542e4b93843c6dd7febb0</td>\n",
       "      <td>14409</td>\n",
       "      <td>franca</td>\n",
       "      <td>SP</td>\n",
       "      <td>00e7ee1b050b8499577073aeb2a297a1</td>\n",
       "      <td>delivered</td>\n",
       "      <td>2017-05-16 15:05:35</td>\n",
       "      <td>2017-05-16 15:22:12</td>\n",
       "      <td>2017-05-23 10:47:57</td>\n",
       "      <td>...</td>\n",
       "      <td>31</td>\n",
       "      <td>4.428571</td>\n",
       "      <td>2017</td>\n",
       "      <td>5</td>\n",
       "      <td>1</td>\n",
       "      <td>a9516a079e37a9c9c36b9b78b10169e8</td>\n",
       "      <td>7c67e1448b00f6e969d365cea6b010ab</td>\n",
       "      <td>2017-05-22 15:22:12</td>\n",
       "      <td>124.99</td>\n",
       "      <td>21.88</td>\n",
       "    </tr>\n",
       "  </tbody>\n",
       "</table>\n",
       "<p>1 rows × 23 columns</p>\n",
       "</div>"
      ],
      "text/plain": [
       "                        customer_id                customer_unique_id  \\\n",
       "0  06b8999e2fba1a1fbc88172c00ba8bc7  861eff4711a542e4b93843c6dd7febb0   \n",
       "\n",
       "   customer_zip_code_prefix customer_city customer_state  \\\n",
       "0                     14409        franca             SP   \n",
       "\n",
       "                           order_id order_status order_purchase_timestamp  \\\n",
       "0  00e7ee1b050b8499577073aeb2a297a1    delivered      2017-05-16 15:05:35   \n",
       "\n",
       "    order_approved_at order_delivered_carrier_date  ... days_in_month  \\\n",
       "0 2017-05-16 15:22:12          2017-05-23 10:47:57  ...            31   \n",
       "\n",
       "      weeks  year  month  order_item_id                        product_id  \\\n",
       "0  4.428571  2017      5              1  a9516a079e37a9c9c36b9b78b10169e8   \n",
       "\n",
       "                          seller_id  shipping_limit_date   price freight_value  \n",
       "0  7c67e1448b00f6e969d365cea6b010ab  2017-05-22 15:22:12  124.99         21.88  \n",
       "\n",
       "[1 rows x 23 columns]"
      ]
     },
     "execution_count": 229,
     "metadata": {},
     "output_type": "execute_result"
    }
   ],
   "source": [
    "full_df = customers_orders_delivered.merge(items, on='order_id').dropna()\n",
    "full_df.head(1)"
   ]
  },
  {
   "cell_type": "markdown",
   "id": "ea27f585",
   "metadata": {},
   "source": [
    "• Создадим новый датафрейм с помощью группировки, в который включим только те колонки, которые нужны для подсчета RFM. Мы будем использовать дату подтверждения платежа как дату последней покупки (т.к. в данном случае все даты `order_approved_at` и `customer_unique_id` уникальны)."
   ]
  },
  {
   "cell_type": "code",
   "execution_count": 263,
   "id": "d3e4e350",
   "metadata": {},
   "outputs": [
    {
     "data": {
      "text/html": [
       "<div>\n",
       "<style scoped>\n",
       "    .dataframe tbody tr th:only-of-type {\n",
       "        vertical-align: middle;\n",
       "    }\n",
       "\n",
       "    .dataframe tbody tr th {\n",
       "        vertical-align: top;\n",
       "    }\n",
       "\n",
       "    .dataframe thead th {\n",
       "        text-align: right;\n",
       "    }\n",
       "</style>\n",
       "<table border=\"1\" class=\"dataframe\">\n",
       "  <thead>\n",
       "    <tr style=\"text-align: right;\">\n",
       "      <th></th>\n",
       "      <th>customer_unique_id</th>\n",
       "      <th>order_approved_at</th>\n",
       "      <th>revenue</th>\n",
       "      <th>order_count</th>\n",
       "    </tr>\n",
       "  </thead>\n",
       "  <tbody>\n",
       "    <tr>\n",
       "      <th>3832</th>\n",
       "      <td>0a0a92112bd4c708ca5fde585afaa872</td>\n",
       "      <td>2017-10-02 15:28:20</td>\n",
       "      <td>13440.0</td>\n",
       "      <td>8</td>\n",
       "    </tr>\n",
       "    <tr>\n",
       "      <th>44558</th>\n",
       "      <td>763c8b1c9c68a0229c42c9fc6f662b93</td>\n",
       "      <td>2018-07-17 04:31:36</td>\n",
       "      <td>7160.0</td>\n",
       "      <td>4</td>\n",
       "    </tr>\n",
       "    <tr>\n",
       "      <th>83074</th>\n",
       "      <td>dc4802a71eae9be1dd28f5d788ceb526</td>\n",
       "      <td>2017-02-12 20:45:12</td>\n",
       "      <td>6735.0</td>\n",
       "      <td>1</td>\n",
       "    </tr>\n",
       "    <tr>\n",
       "      <th>26230</th>\n",
       "      <td>459bef486812aa25204be022145caa62</td>\n",
       "      <td>2018-07-27 04:05:13</td>\n",
       "      <td>6729.0</td>\n",
       "      <td>1</td>\n",
       "    </tr>\n",
       "    <tr>\n",
       "      <th>96095</th>\n",
       "      <td>ff4159b92c40ebe40454e3e6a7c35ed6</td>\n",
       "      <td>2017-05-26 02:45:17</td>\n",
       "      <td>6499.0</td>\n",
       "      <td>1</td>\n",
       "    </tr>\n",
       "  </tbody>\n",
       "</table>\n",
       "</div>"
      ],
      "text/plain": [
       "                     customer_unique_id   order_approved_at  revenue  \\\n",
       "3832   0a0a92112bd4c708ca5fde585afaa872 2017-10-02 15:28:20  13440.0   \n",
       "44558  763c8b1c9c68a0229c42c9fc6f662b93 2018-07-17 04:31:36   7160.0   \n",
       "83074  dc4802a71eae9be1dd28f5d788ceb526 2017-02-12 20:45:12   6735.0   \n",
       "26230  459bef486812aa25204be022145caa62 2018-07-27 04:05:13   6729.0   \n",
       "96095  ff4159b92c40ebe40454e3e6a7c35ed6 2017-05-26 02:45:17   6499.0   \n",
       "\n",
       "       order_count  \n",
       "3832             8  \n",
       "44558            4  \n",
       "83074            1  \n",
       "26230            1  \n",
       "96095            1  "
      ]
     },
     "execution_count": 263,
     "metadata": {},
     "output_type": "execute_result"
    }
   ],
   "source": [
    "rfm_df = full_df \\\n",
    "    .groupby(['customer_unique_id', \n",
    "              'order_approved_at'], as_index=False) \\\n",
    "    .agg({'price':'sum', 'order_id': 'count'}) \\\n",
    "    .rename(columns={'price': 'revenue', 'order_id': 'order_count'}) \\\n",
    "    .sort_values('revenue', ascending=False)\n",
    "rfm_df.head()"
   ]
  },
  {
   "cell_type": "markdown",
   "id": "7d3c1ad4",
   "metadata": {},
   "source": [
    "• Чтобы найти `r` создадим колонку `Recency`: вычтем каждую дату `order_approved_at` из последней даты в `order_approved_at` в исследуемом периоде. Также переведем значения в дни. "
   ]
  },
  {
   "cell_type": "code",
   "execution_count": 264,
   "id": "1e15a68a",
   "metadata": {},
   "outputs": [],
   "source": [
    "rfm_df['Recency'] = rfm_df.order_approved_at.max() - rfm_df.order_approved_at\n",
    "rfm_df['Recency'] = rfm_df['Recency'].dt.days"
   ]
  },
  {
   "cell_type": "markdown",
   "id": "41331f2d",
   "metadata": {},
   "source": [
    "• Создадим колонки `Frequency` и `Monetary`, данные для них у нас уже найдены и соотвутствуют `order_count` и `revenue` "
   ]
  },
  {
   "cell_type": "code",
   "execution_count": 265,
   "id": "b48f89df",
   "metadata": {},
   "outputs": [],
   "source": [
    "rfm_df['Frequency'] = rfm_df['order_count']\n",
    "rfm_df['Monetary'] = rfm_df['revenue']"
   ]
  },
  {
   "cell_type": "code",
   "execution_count": 266,
   "id": "2ac91168",
   "metadata": {},
   "outputs": [
    {
     "data": {
      "text/html": [
       "<div>\n",
       "<style scoped>\n",
       "    .dataframe tbody tr th:only-of-type {\n",
       "        vertical-align: middle;\n",
       "    }\n",
       "\n",
       "    .dataframe tbody tr th {\n",
       "        vertical-align: top;\n",
       "    }\n",
       "\n",
       "    .dataframe thead th {\n",
       "        text-align: right;\n",
       "    }\n",
       "</style>\n",
       "<table border=\"1\" class=\"dataframe\">\n",
       "  <thead>\n",
       "    <tr style=\"text-align: right;\">\n",
       "      <th></th>\n",
       "      <th>customer_unique_id</th>\n",
       "      <th>order_approved_at</th>\n",
       "      <th>revenue</th>\n",
       "      <th>order_count</th>\n",
       "      <th>Recency</th>\n",
       "      <th>Frequency</th>\n",
       "      <th>Monetary</th>\n",
       "    </tr>\n",
       "  </thead>\n",
       "  <tbody>\n",
       "    <tr>\n",
       "      <th>3832</th>\n",
       "      <td>0a0a92112bd4c708ca5fde585afaa872</td>\n",
       "      <td>2017-10-02 15:28:20</td>\n",
       "      <td>13440.0</td>\n",
       "      <td>8</td>\n",
       "      <td>330</td>\n",
       "      <td>8</td>\n",
       "      <td>13440.0</td>\n",
       "    </tr>\n",
       "  </tbody>\n",
       "</table>\n",
       "</div>"
      ],
      "text/plain": [
       "                    customer_unique_id   order_approved_at  revenue  \\\n",
       "3832  0a0a92112bd4c708ca5fde585afaa872 2017-10-02 15:28:20  13440.0   \n",
       "\n",
       "      order_count  Recency  Frequency  Monetary  \n",
       "3832            8      330          8   13440.0  "
      ]
     },
     "execution_count": 266,
     "metadata": {},
     "output_type": "execute_result"
    }
   ],
   "source": [
    "rfm_df.head(1)"
   ]
  },
  {
   "cell_type": "markdown",
   "id": "44839fbd",
   "metadata": {},
   "source": [
    "• Теперь сегментируем каждую из нужных колонок. Я буду использовать ранговую систему с оценками от 1 до 4 для каждой из метрик. Для этого используем функцию pd.qcut(). Эта функция разделит наши данные на 4 более-менее равномерных отрезка (использует квартили).\n",
    "\n"
   ]
  },
  {
   "cell_type": "code",
   "execution_count": 267,
   "id": "ca897fa9",
   "metadata": {},
   "outputs": [],
   "source": [
    "# Чтобы наименьшая оценка досталась покупателям, \n",
    "# у которых прошло больше всего времени с последней покупки, \n",
    "# сделаем так:\n",
    "\n",
    "rfm_df['r'] = 5 - (pd.qcut(rfm_df['Recency'], 4, labels=False) + 1)"
   ]
  },
  {
   "cell_type": "markdown",
   "id": "03cad4c7",
   "metadata": {},
   "source": [
    "• Проверим как наша функция разделила данные."
   ]
  },
  {
   "cell_type": "code",
   "execution_count": 268,
   "id": "5b79a668",
   "metadata": {},
   "outputs": [
    {
     "data": {
      "text/html": [
       "<div>\n",
       "<style scoped>\n",
       "    .dataframe tbody tr th:only-of-type {\n",
       "        vertical-align: middle;\n",
       "    }\n",
       "\n",
       "    .dataframe tbody tr th {\n",
       "        vertical-align: top;\n",
       "    }\n",
       "\n",
       "    .dataframe thead th {\n",
       "        text-align: right;\n",
       "    }\n",
       "</style>\n",
       "<table border=\"1\" class=\"dataframe\">\n",
       "  <thead>\n",
       "    <tr style=\"text-align: right;\">\n",
       "      <th></th>\n",
       "      <th>mean</th>\n",
       "      <th>count</th>\n",
       "    </tr>\n",
       "    <tr>\n",
       "      <th>r</th>\n",
       "      <th></th>\n",
       "      <th></th>\n",
       "    </tr>\n",
       "  </thead>\n",
       "  <tbody>\n",
       "    <tr>\n",
       "      <th>1</th>\n",
       "      <td>451.902903</td>\n",
       "      <td>24079</td>\n",
       "    </tr>\n",
       "    <tr>\n",
       "      <th>2</th>\n",
       "      <td>278.389378</td>\n",
       "      <td>24064</td>\n",
       "    </tr>\n",
       "    <tr>\n",
       "      <th>3</th>\n",
       "      <td>167.420064</td>\n",
       "      <td>24013</td>\n",
       "    </tr>\n",
       "    <tr>\n",
       "      <th>4</th>\n",
       "      <td>57.504603</td>\n",
       "      <td>24221</td>\n",
       "    </tr>\n",
       "  </tbody>\n",
       "</table>\n",
       "</div>"
      ],
      "text/plain": [
       "         mean  count\n",
       "r                   \n",
       "1  451.902903  24079\n",
       "2  278.389378  24064\n",
       "3  167.420064  24013\n",
       "4   57.504603  24221"
      ]
     },
     "execution_count": 268,
     "metadata": {},
     "output_type": "execute_result"
    }
   ],
   "source": [
    "rfm_df.groupby('r')['Recency'].agg(['mean', 'count'])"
   ]
  },
  {
   "cell_type": "code",
   "execution_count": 269,
   "id": "2236711a",
   "metadata": {},
   "outputs": [
    {
     "data": {
      "text/plain": [
       "count    96377.000000\n",
       "mean       238.579838\n",
       "std        152.766046\n",
       "min          0.000000\n",
       "25%        115.000000\n",
       "50%        219.000000\n",
       "75%        348.000000\n",
       "max        713.000000\n",
       "Name: Recency, dtype: float64"
      ]
     },
     "execution_count": 269,
     "metadata": {},
     "output_type": "execute_result"
    }
   ],
   "source": [
    "rfm_df.Recency.describe()"
   ]
  },
  {
   "cell_type": "markdown",
   "id": "ecd2047f",
   "metadata": {},
   "source": [
    "• Мы разделили `r` на 4 кластера, где:  \n",
    "оценку `1` получили пользователи, которые совершили покупку от 713 до 347 дней назад  \n",
    "оценку `2` получили пользователи, которые совершили покупку от 348 до 218 дней назад  \n",
    "оценку `3` получили пользователи, которые совершили покупку от 219 до 116 дней назад   \n",
    "оценку `4` получили пользователи, которые совершили покупку от 115 до 0 дней назад  "
   ]
  },
  {
   "cell_type": "markdown",
   "id": "c31eb466",
   "metadata": {},
   "source": [
    "• Используя `pd.qcut()` для `Frequency` получаем ошибку:"
   ]
  },
  {
   "cell_type": "code",
   "execution_count": 272,
   "id": "e151d9b3",
   "metadata": {},
   "outputs": [],
   "source": [
    "# pd.qcut(rfm_df['Frequency'], 4, labels=False) + 1\n",
    "\n",
    "# ValueError: Bin edges must be unique: array([ 1.,  1.,  1.,  1., 21.]).\n",
    "# You can drop duplicate edges by setting the 'duplicates' kwarg"
   ]
  },
  {
   "cell_type": "markdown",
   "id": "da5c824a",
   "metadata": {},
   "source": [
    "• Функция `pd.qcut()` не очень хорошо работает для данных где какие-то значения сильно доминируют, давайте посмотрим на значения во `Frequency`."
   ]
  },
  {
   "cell_type": "code",
   "execution_count": 273,
   "id": "4d62fa19",
   "metadata": {},
   "outputs": [
    {
     "data": {
      "text/plain": [
       "1     86693\n",
       "2      7424\n",
       "3      1314\n",
       "4       502\n",
       "5       195\n",
       "6       191\n",
       "7        22\n",
       "8         8\n",
       "10        8\n",
       "12        5\n",
       "11        4\n",
       "9         3\n",
       "20        2\n",
       "15        2\n",
       "14        2\n",
       "13        1\n",
       "21        1\n",
       "Name: Frequency, dtype: int64"
      ]
     },
     "execution_count": 273,
     "metadata": {},
     "output_type": "execute_result"
    }
   ],
   "source": [
    "rfm_df['Frequency'].value_counts()"
   ]
  },
  {
   "cell_type": "markdown",
   "id": "c1a73593",
   "metadata": {},
   "source": [
    "• Мы видим, что подавляющее большинство покупателей совершило только одну покупку, поэтому создадим функцию, в которой самостоятельно разделим покупателей на сегменты.\n",
    "\n",
    "• Всем тем, кто совершили только одну покупку, дадим оценку `1`. Их подавляющее большинство, и, на мой взгляд, их лучше больше ни с кем не смешивать. Оценку `2` дадим тем, кто совершили 2 или 3 покупки за этот год. Оценку `3` дадим тем, кто совершили от 4 до 6 покупок. Тем, кто совершили 7 или больше покупок дадим оценку `4`. Их мало, но за них нужно держаться, т.к. они наиболее лояльные."
   ]
  },
  {
   "cell_type": "code",
   "execution_count": 276,
   "id": "f6b0929a",
   "metadata": {},
   "outputs": [],
   "source": [
    "def freq(x):\n",
    "    if x == 1:\n",
    "        return 1\n",
    "    if x in [2,3]:\n",
    "        return 2\n",
    "    if x in [4,5,6]:\n",
    "        return 3\n",
    "    else:\n",
    "        return 4"
   ]
  },
  {
   "cell_type": "code",
   "execution_count": 277,
   "id": "10c08ede",
   "metadata": {},
   "outputs": [],
   "source": [
    "rfm_df['f'] = rfm_df['Frequency'].apply(freq)"
   ]
  },
  {
   "cell_type": "markdown",
   "id": "0db3cbaf",
   "metadata": {},
   "source": [
    "• Давайте посмотрим на наши группы:"
   ]
  },
  {
   "cell_type": "code",
   "execution_count": 278,
   "id": "d2ba06c4",
   "metadata": {
    "scrolled": true
   },
   "outputs": [
    {
     "data": {
      "text/html": [
       "<div>\n",
       "<style scoped>\n",
       "    .dataframe tbody tr th:only-of-type {\n",
       "        vertical-align: middle;\n",
       "    }\n",
       "\n",
       "    .dataframe tbody tr th {\n",
       "        vertical-align: top;\n",
       "    }\n",
       "\n",
       "    .dataframe thead th {\n",
       "        text-align: right;\n",
       "    }\n",
       "</style>\n",
       "<table border=\"1\" class=\"dataframe\">\n",
       "  <thead>\n",
       "    <tr style=\"text-align: right;\">\n",
       "      <th></th>\n",
       "      <th>mean</th>\n",
       "      <th>count</th>\n",
       "    </tr>\n",
       "    <tr>\n",
       "      <th>f</th>\n",
       "      <th></th>\n",
       "      <th></th>\n",
       "    </tr>\n",
       "  </thead>\n",
       "  <tbody>\n",
       "    <tr>\n",
       "      <th>1</th>\n",
       "      <td>1.000000</td>\n",
       "      <td>86693</td>\n",
       "    </tr>\n",
       "    <tr>\n",
       "      <th>2</th>\n",
       "      <td>2.150378</td>\n",
       "      <td>8738</td>\n",
       "    </tr>\n",
       "    <tr>\n",
       "      <th>3</th>\n",
       "      <td>4.649775</td>\n",
       "      <td>888</td>\n",
       "    </tr>\n",
       "    <tr>\n",
       "      <th>4</th>\n",
       "      <td>9.672414</td>\n",
       "      <td>58</td>\n",
       "    </tr>\n",
       "  </tbody>\n",
       "</table>\n",
       "</div>"
      ],
      "text/plain": [
       "       mean  count\n",
       "f                 \n",
       "1  1.000000  86693\n",
       "2  2.150378   8738\n",
       "3  4.649775    888\n",
       "4  9.672414     58"
      ]
     },
     "execution_count": 278,
     "metadata": {},
     "output_type": "execute_result"
    }
   ],
   "source": [
    "rfm_df.groupby('f')['Frequency'].agg(['mean', 'count'])"
   ]
  },
  {
   "cell_type": "markdown",
   "id": "bfb0cb51",
   "metadata": {},
   "source": [
    "• Для `Monetary` так же используем `pd.qcut()`"
   ]
  },
  {
   "cell_type": "code",
   "execution_count": 285,
   "id": "b094cc9c",
   "metadata": {},
   "outputs": [],
   "source": [
    "rfm_df['m'] = pd.qcut(rfm_df['Monetary'], 4, labels=False) + 1"
   ]
  },
  {
   "cell_type": "markdown",
   "id": "236f7ffc",
   "metadata": {},
   "source": [
    "• Посмотрим на наши группы:"
   ]
  },
  {
   "cell_type": "code",
   "execution_count": 287,
   "id": "bb185c14",
   "metadata": {},
   "outputs": [
    {
     "data": {
      "text/html": [
       "<div>\n",
       "<style scoped>\n",
       "    .dataframe tbody tr th:only-of-type {\n",
       "        vertical-align: middle;\n",
       "    }\n",
       "\n",
       "    .dataframe tbody tr th {\n",
       "        vertical-align: top;\n",
       "    }\n",
       "\n",
       "    .dataframe thead th {\n",
       "        text-align: right;\n",
       "    }\n",
       "</style>\n",
       "<table border=\"1\" class=\"dataframe\">\n",
       "  <thead>\n",
       "    <tr style=\"text-align: right;\">\n",
       "      <th></th>\n",
       "      <th>mean</th>\n",
       "      <th>count</th>\n",
       "      <th>min</th>\n",
       "      <th>max</th>\n",
       "    </tr>\n",
       "    <tr>\n",
       "      <th>m</th>\n",
       "      <th></th>\n",
       "      <th></th>\n",
       "      <th></th>\n",
       "      <th></th>\n",
       "    </tr>\n",
       "  </thead>\n",
       "  <tbody>\n",
       "    <tr>\n",
       "      <th>1</th>\n",
       "      <td>28.607878</td>\n",
       "      <td>24192</td>\n",
       "      <td>0.85</td>\n",
       "      <td>45.9</td>\n",
       "    </tr>\n",
       "    <tr>\n",
       "      <th>2</th>\n",
       "      <td>63.855111</td>\n",
       "      <td>23997</td>\n",
       "      <td>45.91</td>\n",
       "      <td>86.8</td>\n",
       "    </tr>\n",
       "    <tr>\n",
       "      <th>3</th>\n",
       "      <td>114.953313</td>\n",
       "      <td>24282</td>\n",
       "      <td>86.85</td>\n",
       "      <td>149.9</td>\n",
       "    </tr>\n",
       "    <tr>\n",
       "      <th>4</th>\n",
       "      <td>343.122658</td>\n",
       "      <td>23906</td>\n",
       "      <td>149.91</td>\n",
       "      <td>13440.0</td>\n",
       "    </tr>\n",
       "  </tbody>\n",
       "</table>\n",
       "</div>"
      ],
      "text/plain": [
       "         mean  count     min      max\n",
       "m                                    \n",
       "1   28.607878  24192    0.85     45.9\n",
       "2   63.855111  23997   45.91     86.8\n",
       "3  114.953313  24282   86.85    149.9\n",
       "4  343.122658  23906  149.91  13440.0"
      ]
     },
     "execution_count": 287,
     "metadata": {},
     "output_type": "execute_result"
    }
   ],
   "source": [
    "rfm_df.groupby('m')['Monetary'].agg(['mean', 'count', 'min', 'max'])"
   ]
  },
  {
   "cell_type": "markdown",
   "id": "7ad1716f",
   "metadata": {},
   "source": [
    "• Меня не очень устраивают такие группы, потому что мы объединили пользователей, которые потратили по 150 рублей с теми, которые тратили несколько тысяч. Я разделю покупателей на такие группы:\n",
    "\n",
    "оценку 1 получили пользователи, которые потратили меньше 100р  \n",
    "оценку 2 получили пользователи, которые потратили от 100 до 500р  \n",
    "оценку 3 получили пользователи, которые потратили от 500 до 1000р  \n",
    "оценку 4 получили пользователи, которые потратили больше 1000р  "
   ]
  },
  {
   "cell_type": "code",
   "execution_count": 282,
   "id": "d51250bd",
   "metadata": {},
   "outputs": [],
   "source": [
    "def mon(x):\n",
    "    if x >= 1000:\n",
    "        return 4\n",
    "    if 500 <= x < 1000:\n",
    "        return 3\n",
    "    if 100 <= x < 500:\n",
    "        return 2\n",
    "    else:\n",
    "        return 1"
   ]
  },
  {
   "cell_type": "code",
   "execution_count": 283,
   "id": "a1a3e52a",
   "metadata": {},
   "outputs": [],
   "source": [
    "rfm_df['m'] = rfm_df['Monetary'].apply(mon)"
   ]
  },
  {
   "cell_type": "markdown",
   "id": "f6be5692",
   "metadata": {},
   "source": [
    "• Теперь посмотрим на наши группы:"
   ]
  },
  {
   "cell_type": "code",
   "execution_count": 284,
   "id": "dd79711a",
   "metadata": {},
   "outputs": [
    {
     "data": {
      "text/html": [
       "<div>\n",
       "<style scoped>\n",
       "    .dataframe tbody tr th:only-of-type {\n",
       "        vertical-align: middle;\n",
       "    }\n",
       "\n",
       "    .dataframe tbody tr th {\n",
       "        vertical-align: top;\n",
       "    }\n",
       "\n",
       "    .dataframe thead th {\n",
       "        text-align: right;\n",
       "    }\n",
       "</style>\n",
       "<table border=\"1\" class=\"dataframe\">\n",
       "  <thead>\n",
       "    <tr style=\"text-align: right;\">\n",
       "      <th></th>\n",
       "      <th>mean</th>\n",
       "      <th>count</th>\n",
       "    </tr>\n",
       "    <tr>\n",
       "      <th>m</th>\n",
       "      <th></th>\n",
       "      <th></th>\n",
       "    </tr>\n",
       "  </thead>\n",
       "  <tbody>\n",
       "    <tr>\n",
       "      <th>1</th>\n",
       "      <td>53.244503</td>\n",
       "      <td>56429</td>\n",
       "    </tr>\n",
       "    <tr>\n",
       "      <th>2</th>\n",
       "      <td>190.862474</td>\n",
       "      <td>36442</td>\n",
       "    </tr>\n",
       "    <tr>\n",
       "      <th>3</th>\n",
       "      <td>689.335154</td>\n",
       "      <td>2598</td>\n",
       "    </tr>\n",
       "    <tr>\n",
       "      <th>4</th>\n",
       "      <td>1616.258161</td>\n",
       "      <td>908</td>\n",
       "    </tr>\n",
       "  </tbody>\n",
       "</table>\n",
       "</div>"
      ],
      "text/plain": [
       "          mean  count\n",
       "m                    \n",
       "1    53.244503  56429\n",
       "2   190.862474  36442\n",
       "3   689.335154   2598\n",
       "4  1616.258161    908"
      ]
     },
     "execution_count": 284,
     "metadata": {},
     "output_type": "execute_result"
    }
   ],
   "source": [
    "rfm_df.groupby('m')['Monetary'].agg(['mean', 'count'])"
   ]
  },
  {
   "cell_type": "markdown",
   "id": "4a3d45fa",
   "metadata": {},
   "source": [
    "• Да, так намного лучше!"
   ]
  },
  {
   "cell_type": "code",
   "execution_count": 247,
   "id": "c78a6ed0",
   "metadata": {},
   "outputs": [
    {
     "data": {
      "text/html": [
       "<div>\n",
       "<style scoped>\n",
       "    .dataframe tbody tr th:only-of-type {\n",
       "        vertical-align: middle;\n",
       "    }\n",
       "\n",
       "    .dataframe tbody tr th {\n",
       "        vertical-align: top;\n",
       "    }\n",
       "\n",
       "    .dataframe thead th {\n",
       "        text-align: right;\n",
       "    }\n",
       "</style>\n",
       "<table border=\"1\" class=\"dataframe\">\n",
       "  <thead>\n",
       "    <tr style=\"text-align: right;\">\n",
       "      <th></th>\n",
       "      <th>customer_unique_id</th>\n",
       "      <th>order_approved_at</th>\n",
       "      <th>revenue</th>\n",
       "      <th>order_count</th>\n",
       "      <th>Recency</th>\n",
       "      <th>Frequency</th>\n",
       "      <th>Monetary</th>\n",
       "      <th>r</th>\n",
       "      <th>f</th>\n",
       "      <th>m</th>\n",
       "    </tr>\n",
       "  </thead>\n",
       "  <tbody>\n",
       "    <tr>\n",
       "      <th>3832</th>\n",
       "      <td>0a0a92112bd4c708ca5fde585afaa872</td>\n",
       "      <td>2017-10-02 15:28:20</td>\n",
       "      <td>13440.0</td>\n",
       "      <td>8</td>\n",
       "      <td>330</td>\n",
       "      <td>8</td>\n",
       "      <td>13440.0</td>\n",
       "      <td>2</td>\n",
       "      <td>4</td>\n",
       "      <td>4</td>\n",
       "    </tr>\n",
       "    <tr>\n",
       "      <th>44558</th>\n",
       "      <td>763c8b1c9c68a0229c42c9fc6f662b93</td>\n",
       "      <td>2018-07-17 04:31:36</td>\n",
       "      <td>7160.0</td>\n",
       "      <td>4</td>\n",
       "      <td>43</td>\n",
       "      <td>4</td>\n",
       "      <td>7160.0</td>\n",
       "      <td>4</td>\n",
       "      <td>3</td>\n",
       "      <td>4</td>\n",
       "    </tr>\n",
       "    <tr>\n",
       "      <th>83074</th>\n",
       "      <td>dc4802a71eae9be1dd28f5d788ceb526</td>\n",
       "      <td>2017-02-12 20:45:12</td>\n",
       "      <td>6735.0</td>\n",
       "      <td>1</td>\n",
       "      <td>562</td>\n",
       "      <td>1</td>\n",
       "      <td>6735.0</td>\n",
       "      <td>1</td>\n",
       "      <td>1</td>\n",
       "      <td>4</td>\n",
       "    </tr>\n",
       "    <tr>\n",
       "      <th>26230</th>\n",
       "      <td>459bef486812aa25204be022145caa62</td>\n",
       "      <td>2018-07-27 04:05:13</td>\n",
       "      <td>6729.0</td>\n",
       "      <td>1</td>\n",
       "      <td>33</td>\n",
       "      <td>1</td>\n",
       "      <td>6729.0</td>\n",
       "      <td>4</td>\n",
       "      <td>1</td>\n",
       "      <td>4</td>\n",
       "    </tr>\n",
       "    <tr>\n",
       "      <th>96095</th>\n",
       "      <td>ff4159b92c40ebe40454e3e6a7c35ed6</td>\n",
       "      <td>2017-05-26 02:45:17</td>\n",
       "      <td>6499.0</td>\n",
       "      <td>1</td>\n",
       "      <td>460</td>\n",
       "      <td>1</td>\n",
       "      <td>6499.0</td>\n",
       "      <td>1</td>\n",
       "      <td>1</td>\n",
       "      <td>4</td>\n",
       "    </tr>\n",
       "  </tbody>\n",
       "</table>\n",
       "</div>"
      ],
      "text/plain": [
       "                     customer_unique_id   order_approved_at  revenue  \\\n",
       "3832   0a0a92112bd4c708ca5fde585afaa872 2017-10-02 15:28:20  13440.0   \n",
       "44558  763c8b1c9c68a0229c42c9fc6f662b93 2018-07-17 04:31:36   7160.0   \n",
       "83074  dc4802a71eae9be1dd28f5d788ceb526 2017-02-12 20:45:12   6735.0   \n",
       "26230  459bef486812aa25204be022145caa62 2018-07-27 04:05:13   6729.0   \n",
       "96095  ff4159b92c40ebe40454e3e6a7c35ed6 2017-05-26 02:45:17   6499.0   \n",
       "\n",
       "       order_count  Recency  Frequency  Monetary  r  f  m  \n",
       "3832             8      330          8   13440.0  2  4  4  \n",
       "44558            4       43          4    7160.0  4  3  4  \n",
       "83074            1      562          1    6735.0  1  1  4  \n",
       "26230            1       33          1    6729.0  4  1  4  \n",
       "96095            1      460          1    6499.0  1  1  4  "
      ]
     },
     "execution_count": 247,
     "metadata": {},
     "output_type": "execute_result"
    }
   ],
   "source": [
    "rfm_df.head()"
   ]
  },
  {
   "cell_type": "markdown",
   "id": "e954bad9",
   "metadata": {},
   "source": [
    "• Теперь сегментируем пользователей основываясь на их общем RFM score. "
   ]
  },
  {
   "cell_type": "code",
   "execution_count": 248,
   "id": "76c4df2b",
   "metadata": {
    "scrolled": false
   },
   "outputs": [
    {
     "data": {
      "text/html": [
       "<div>\n",
       "<style scoped>\n",
       "    .dataframe tbody tr th:only-of-type {\n",
       "        vertical-align: middle;\n",
       "    }\n",
       "\n",
       "    .dataframe tbody tr th {\n",
       "        vertical-align: top;\n",
       "    }\n",
       "\n",
       "    .dataframe thead th {\n",
       "        text-align: right;\n",
       "    }\n",
       "</style>\n",
       "<table border=\"1\" class=\"dataframe\">\n",
       "  <thead>\n",
       "    <tr style=\"text-align: right;\">\n",
       "      <th></th>\n",
       "      <th>customer_unique_id</th>\n",
       "      <th>r</th>\n",
       "      <th>f</th>\n",
       "      <th>m</th>\n",
       "      <th>RFM_Segment</th>\n",
       "    </tr>\n",
       "  </thead>\n",
       "  <tbody>\n",
       "    <tr>\n",
       "      <th>0</th>\n",
       "      <td>0000366f3b9a7992bf8c76cfdf3221e2</td>\n",
       "      <td>4</td>\n",
       "      <td>1</td>\n",
       "      <td>2</td>\n",
       "      <td>412</td>\n",
       "    </tr>\n",
       "    <tr>\n",
       "      <th>1</th>\n",
       "      <td>0000b849f77a49e4a4ce2b2a4ca5be3f</td>\n",
       "      <td>4</td>\n",
       "      <td>1</td>\n",
       "      <td>1</td>\n",
       "      <td>411</td>\n",
       "    </tr>\n",
       "    <tr>\n",
       "      <th>2</th>\n",
       "      <td>0000f46a3911fa3c0805444483337064</td>\n",
       "      <td>1</td>\n",
       "      <td>1</td>\n",
       "      <td>1</td>\n",
       "      <td>111</td>\n",
       "    </tr>\n",
       "    <tr>\n",
       "      <th>3</th>\n",
       "      <td>0000f6ccb0745a6a4b88665a16c9f078</td>\n",
       "      <td>2</td>\n",
       "      <td>1</td>\n",
       "      <td>1</td>\n",
       "      <td>211</td>\n",
       "    </tr>\n",
       "    <tr>\n",
       "      <th>4</th>\n",
       "      <td>0004aac84e0df4da2b147fca70cf8255</td>\n",
       "      <td>2</td>\n",
       "      <td>1</td>\n",
       "      <td>2</td>\n",
       "      <td>212</td>\n",
       "    </tr>\n",
       "    <tr>\n",
       "      <th>...</th>\n",
       "      <td>...</td>\n",
       "      <td>...</td>\n",
       "      <td>...</td>\n",
       "      <td>...</td>\n",
       "      <td>...</td>\n",
       "    </tr>\n",
       "    <tr>\n",
       "      <th>96372</th>\n",
       "      <td>fffcf5a5ff07b0908bd4e2dbc735a684</td>\n",
       "      <td>1</td>\n",
       "      <td>2</td>\n",
       "      <td>4</td>\n",
       "      <td>124</td>\n",
       "    </tr>\n",
       "    <tr>\n",
       "      <th>96373</th>\n",
       "      <td>fffea47cd6d3cc0a88bd621562a9d061</td>\n",
       "      <td>2</td>\n",
       "      <td>1</td>\n",
       "      <td>1</td>\n",
       "      <td>211</td>\n",
       "    </tr>\n",
       "    <tr>\n",
       "      <th>96374</th>\n",
       "      <td>ffff371b4d645b6ecea244b27531430a</td>\n",
       "      <td>1</td>\n",
       "      <td>1</td>\n",
       "      <td>1</td>\n",
       "      <td>111</td>\n",
       "    </tr>\n",
       "    <tr>\n",
       "      <th>96375</th>\n",
       "      <td>ffff5962728ec6157033ef9805bacc48</td>\n",
       "      <td>3</td>\n",
       "      <td>1</td>\n",
       "      <td>2</td>\n",
       "      <td>312</td>\n",
       "    </tr>\n",
       "    <tr>\n",
       "      <th>96376</th>\n",
       "      <td>ffffd2657e2aad2907e67c3e9daecbeb</td>\n",
       "      <td>1</td>\n",
       "      <td>1</td>\n",
       "      <td>1</td>\n",
       "      <td>111</td>\n",
       "    </tr>\n",
       "  </tbody>\n",
       "</table>\n",
       "<p>96377 rows × 5 columns</p>\n",
       "</div>"
      ],
      "text/plain": [
       "                     customer_unique_id  r  f  m RFM_Segment\n",
       "0      0000366f3b9a7992bf8c76cfdf3221e2  4  1  2         412\n",
       "1      0000b849f77a49e4a4ce2b2a4ca5be3f  4  1  1         411\n",
       "2      0000f46a3911fa3c0805444483337064  1  1  1         111\n",
       "3      0000f6ccb0745a6a4b88665a16c9f078  2  1  1         211\n",
       "4      0004aac84e0df4da2b147fca70cf8255  2  1  2         212\n",
       "...                                 ... .. .. ..         ...\n",
       "96372  fffcf5a5ff07b0908bd4e2dbc735a684  1  2  4         124\n",
       "96373  fffea47cd6d3cc0a88bd621562a9d061  2  1  1         211\n",
       "96374  ffff371b4d645b6ecea244b27531430a  1  1  1         111\n",
       "96375  ffff5962728ec6157033ef9805bacc48  3  1  2         312\n",
       "96376  ffffd2657e2aad2907e67c3e9daecbeb  1  1  1         111\n",
       "\n",
       "[96377 rows x 5 columns]"
      ]
     },
     "execution_count": 248,
     "metadata": {},
     "output_type": "execute_result"
    }
   ],
   "source": [
    "# Объединим оценки RFM чтобы получить RFM сегменты\n",
    "def join_rfm(x): \n",
    "    return str(x['r']) + str(x['f']) + str(x['m'])\n",
    "rfm_df['RFM_Segment'] = rfm_df.apply(join_rfm, axis=1)\n",
    "rfm_df[['customer_unique_id', 'r', 'f', 'm', 'RFM_Segment']].sort_values('customer_unique_id')"
   ]
  },
  {
   "cell_type": "code",
   "execution_count": 249,
   "id": "ab670e05",
   "metadata": {},
   "outputs": [
    {
     "data": {
      "text/plain": [
       "62"
      ]
     },
     "execution_count": 249,
     "metadata": {},
     "output_type": "execute_result"
    }
   ],
   "source": [
    "rfm_df.RFM_Segment.nunique()"
   ]
  },
  {
   "cell_type": "markdown",
   "id": "e6eb7d3a",
   "metadata": {},
   "source": [
    "• Для удобства ещё раз напишу все границы сегментов:"
   ]
  },
  {
   "cell_type": "markdown",
   "id": "cd530349",
   "metadata": {},
   "source": [
    "### Recency:  \n",
    "`1`: последняя покупка от **713** до **347** дней назад   \n",
    "`2`: последняя покупка от **348** до **218** дней назад   \n",
    "`3`: последняя покупка от **219** до **116** дней назад  \n",
    "`4`: последняя покупка от **115** до **0** дней назад\n",
    "\n",
    "### Frequency:  \n",
    "`1`: **1** покупка за год  \n",
    "`2`: **2** или **3** покупки за год    \n",
    "`3`: от **4** до **6** покупок за год   \n",
    "`4`: **7** или больше покупок за год  \n",
    "\n",
    "### Monetary:   \n",
    "`1`: потратили за год меньше **100р**  \n",
    "`2`: потратили за год от **100** до **500р**  \n",
    "`3`: потратили за год от **500** до **1000р**  \n",
    "`4`: потратили за год больше **1000р**  "
   ]
  },
  {
   "cell_type": "markdown",
   "id": "74253eba",
   "metadata": {},
   "source": [
    "• Мы получили 62 уникальных сегмента RFM, с которыми довольно сложно работать, потому что отдельно описывать каждый из 62 сегментов кажется не самым эффективном методом работы. Вместо отдельной оценки каждого элемента сегмента, попробуем обобщить наши метрики с помощью использования суммарного RFM-Score."
   ]
  },
  {
   "cell_type": "markdown",
   "id": "1c3935ff",
   "metadata": {},
   "source": [
    "• Добавим ещё одну колонку с суммарным RFM-Score, и напишем функцию для разделения покупателей на говорящие сегменты.\n"
   ]
  },
  {
   "cell_type": "code",
   "execution_count": 250,
   "id": "3f2289af",
   "metadata": {},
   "outputs": [
    {
     "data": {
      "text/html": [
       "<div>\n",
       "<style scoped>\n",
       "    .dataframe tbody tr th:only-of-type {\n",
       "        vertical-align: middle;\n",
       "    }\n",
       "\n",
       "    .dataframe tbody tr th {\n",
       "        vertical-align: top;\n",
       "    }\n",
       "\n",
       "    .dataframe thead th {\n",
       "        text-align: right;\n",
       "    }\n",
       "</style>\n",
       "<table border=\"1\" class=\"dataframe\">\n",
       "  <thead>\n",
       "    <tr style=\"text-align: right;\">\n",
       "      <th></th>\n",
       "      <th>customer_unique_id</th>\n",
       "      <th>order_approved_at</th>\n",
       "      <th>revenue</th>\n",
       "      <th>order_count</th>\n",
       "      <th>Recency</th>\n",
       "      <th>Frequency</th>\n",
       "      <th>Monetary</th>\n",
       "      <th>r</th>\n",
       "      <th>f</th>\n",
       "      <th>m</th>\n",
       "      <th>RFM_Segment</th>\n",
       "      <th>RFM_Score</th>\n",
       "    </tr>\n",
       "  </thead>\n",
       "  <tbody>\n",
       "    <tr>\n",
       "      <th>3832</th>\n",
       "      <td>0a0a92112bd4c708ca5fde585afaa872</td>\n",
       "      <td>2017-10-02 15:28:20</td>\n",
       "      <td>13440.0</td>\n",
       "      <td>8</td>\n",
       "      <td>330</td>\n",
       "      <td>8</td>\n",
       "      <td>13440.0</td>\n",
       "      <td>2</td>\n",
       "      <td>4</td>\n",
       "      <td>4</td>\n",
       "      <td>244</td>\n",
       "      <td>10</td>\n",
       "    </tr>\n",
       "    <tr>\n",
       "      <th>44558</th>\n",
       "      <td>763c8b1c9c68a0229c42c9fc6f662b93</td>\n",
       "      <td>2018-07-17 04:31:36</td>\n",
       "      <td>7160.0</td>\n",
       "      <td>4</td>\n",
       "      <td>43</td>\n",
       "      <td>4</td>\n",
       "      <td>7160.0</td>\n",
       "      <td>4</td>\n",
       "      <td>3</td>\n",
       "      <td>4</td>\n",
       "      <td>434</td>\n",
       "      <td>11</td>\n",
       "    </tr>\n",
       "    <tr>\n",
       "      <th>83074</th>\n",
       "      <td>dc4802a71eae9be1dd28f5d788ceb526</td>\n",
       "      <td>2017-02-12 20:45:12</td>\n",
       "      <td>6735.0</td>\n",
       "      <td>1</td>\n",
       "      <td>562</td>\n",
       "      <td>1</td>\n",
       "      <td>6735.0</td>\n",
       "      <td>1</td>\n",
       "      <td>1</td>\n",
       "      <td>4</td>\n",
       "      <td>114</td>\n",
       "      <td>6</td>\n",
       "    </tr>\n",
       "    <tr>\n",
       "      <th>26230</th>\n",
       "      <td>459bef486812aa25204be022145caa62</td>\n",
       "      <td>2018-07-27 04:05:13</td>\n",
       "      <td>6729.0</td>\n",
       "      <td>1</td>\n",
       "      <td>33</td>\n",
       "      <td>1</td>\n",
       "      <td>6729.0</td>\n",
       "      <td>4</td>\n",
       "      <td>1</td>\n",
       "      <td>4</td>\n",
       "      <td>414</td>\n",
       "      <td>9</td>\n",
       "    </tr>\n",
       "    <tr>\n",
       "      <th>96095</th>\n",
       "      <td>ff4159b92c40ebe40454e3e6a7c35ed6</td>\n",
       "      <td>2017-05-26 02:45:17</td>\n",
       "      <td>6499.0</td>\n",
       "      <td>1</td>\n",
       "      <td>460</td>\n",
       "      <td>1</td>\n",
       "      <td>6499.0</td>\n",
       "      <td>1</td>\n",
       "      <td>1</td>\n",
       "      <td>4</td>\n",
       "      <td>114</td>\n",
       "      <td>6</td>\n",
       "    </tr>\n",
       "  </tbody>\n",
       "</table>\n",
       "</div>"
      ],
      "text/plain": [
       "                     customer_unique_id   order_approved_at  revenue  \\\n",
       "3832   0a0a92112bd4c708ca5fde585afaa872 2017-10-02 15:28:20  13440.0   \n",
       "44558  763c8b1c9c68a0229c42c9fc6f662b93 2018-07-17 04:31:36   7160.0   \n",
       "83074  dc4802a71eae9be1dd28f5d788ceb526 2017-02-12 20:45:12   6735.0   \n",
       "26230  459bef486812aa25204be022145caa62 2018-07-27 04:05:13   6729.0   \n",
       "96095  ff4159b92c40ebe40454e3e6a7c35ed6 2017-05-26 02:45:17   6499.0   \n",
       "\n",
       "       order_count  Recency  Frequency  Monetary  r  f  m RFM_Segment  \\\n",
       "3832             8      330          8   13440.0  2  4  4         244   \n",
       "44558            4       43          4    7160.0  4  3  4         434   \n",
       "83074            1      562          1    6735.0  1  1  4         114   \n",
       "26230            1       33          1    6729.0  4  1  4         414   \n",
       "96095            1      460          1    6499.0  1  1  4         114   \n",
       "\n",
       "       RFM_Score  \n",
       "3832          10  \n",
       "44558         11  \n",
       "83074          6  \n",
       "26230          9  \n",
       "96095          6  "
      ]
     },
     "execution_count": 250,
     "metadata": {},
     "output_type": "execute_result"
    }
   ],
   "source": [
    "rfm_df['RFM_Score'] = rfm_df[['r', 'f', 'm']].sum(axis=1)\n",
    "rfm_df.head()"
   ]
  },
  {
   "cell_type": "markdown",
   "id": "d09d30d9",
   "metadata": {},
   "source": [
    "## Ответ:\n",
    "\n",
    "• Учитывая конкретно наши данные, я использовал намного более строгую систему кластерезации, нежели предлагается в различных источниках. Причина этому в том, что судя из нашего когортного анализа, более 99% наших покупателей не возвращаются к нам на 3й месяц после своей первой покупки. Да и даже на второй месяц были такие же результаты. Это значит, что никакая оценка `Recency` кроме `4` (и может быть `3`, при хорошем `Monetary` и `Frequency`)нас не интересует.\n",
    "\n",
    "• Поэтому нам нужны только самые высокие оценки. Пользователей с идеальным `RFM_Score = 12` будем считать теми, кого ни в коем случае нельзя терять. \"Чемпионами\" у нас будут пользователи с общим RFM_Score от 10 до 11 и `r` больше `3`. Потенциальными у нас будут пользователи с общим RFM_Score от 7 до 9 и `r` больше `3`. Всех остальных будем считать потерянными. \n",
    "\n",
    "• При таких оценках, нам в `Potential` попадуться некоторые покупатели с `m` или `f` равными `1`, но я предполагаю, что обычно мы будем делать RFM анализ на настоящий момент, и пользователей с высокой оценкой `Recency` может можно будет ещё как-то увлечь и превратить их в тех, кто покупает больше и чаще. Поэтому я оставил пользователей даже с низкими показателями `f` и `m` если у них высокий показатель `r`. "
   ]
  },
  {
   "cell_type": "code",
   "execution_count": 254,
   "id": "26550986",
   "metadata": {},
   "outputs": [],
   "source": [
    "def rfm_level(df):\n",
    "    if df['RFM_Score'] == 12:\n",
    "        return 'Can\\'t Lose Them'\n",
    "    elif ((df['RFM_Score'] >= 10) and (df['RFM_Score'] < 12)) and (df['r'] >= 3):\n",
    "        return 'Champions'\n",
    "    elif ((df['RFM_Score'] >= 7) and (df['RFM_Score'] < 10)) and (df['r'] >= 3):\n",
    "        return 'Potential'\n",
    "    else:\n",
    "        return 'Lost'\n",
    "# Create a new variable RFM_Level\n",
    "rfm_df['RFM_Level'] = rfm_df.apply(rfm_level, axis=1)"
   ]
  },
  {
   "cell_type": "markdown",
   "id": "0c01f184",
   "metadata": {},
   "source": [
    "• Посмотрим на получившиеся группы:"
   ]
  },
  {
   "cell_type": "code",
   "execution_count": 255,
   "id": "a3714d44",
   "metadata": {},
   "outputs": [
    {
     "data": {
      "text/html": [
       "<div>\n",
       "<style scoped>\n",
       "    .dataframe tbody tr th:only-of-type {\n",
       "        vertical-align: middle;\n",
       "    }\n",
       "\n",
       "    .dataframe tbody tr th {\n",
       "        vertical-align: top;\n",
       "    }\n",
       "\n",
       "    .dataframe thead th {\n",
       "        text-align: right;\n",
       "    }\n",
       "</style>\n",
       "<table border=\"1\" class=\"dataframe\">\n",
       "  <thead>\n",
       "    <tr style=\"text-align: right;\">\n",
       "      <th></th>\n",
       "      <th>mean</th>\n",
       "      <th>count</th>\n",
       "    </tr>\n",
       "    <tr>\n",
       "      <th>RFM_Level</th>\n",
       "      <th></th>\n",
       "      <th></th>\n",
       "    </tr>\n",
       "  </thead>\n",
       "  <tbody>\n",
       "    <tr>\n",
       "      <th>Can't Lose Them</th>\n",
       "      <td>1234.150000</td>\n",
       "      <td>2</td>\n",
       "    </tr>\n",
       "    <tr>\n",
       "      <th>Champions</th>\n",
       "      <td>1273.326961</td>\n",
       "      <td>102</td>\n",
       "    </tr>\n",
       "    <tr>\n",
       "      <th>Potential</th>\n",
       "      <td>269.613292</td>\n",
       "      <td>13452</td>\n",
       "    </tr>\n",
       "    <tr>\n",
       "      <th>Lost</th>\n",
       "      <td>114.212746</td>\n",
       "      <td>82821</td>\n",
       "    </tr>\n",
       "  </tbody>\n",
       "</table>\n",
       "</div>"
      ],
      "text/plain": [
       "                        mean  count\n",
       "RFM_Level                          \n",
       "Can't Lose Them  1234.150000      2\n",
       "Champions        1273.326961    102\n",
       "Potential         269.613292  13452\n",
       "Lost              114.212746  82821"
      ]
     },
     "execution_count": 255,
     "metadata": {},
     "output_type": "execute_result"
    }
   ],
   "source": [
    "rfm_df.groupby('RFM_Level', as_index=False) \\\n",
    "    ['Monetary'].agg(['mean','count']) \\\n",
    "    .sort_values('count')"
   ]
  },
  {
   "cell_type": "markdown",
   "id": "3363dc0e",
   "metadata": {},
   "source": [
    "### Готово!\n",
    "\n",
    "Теперь мы можем пристально следить за нашими Нельзя-потерять и Чемпионами, пытаться удержать Потенциальных, ну и провести отдельный анализ Потерянных, чтобы понять причины, почему они не возвращаются к нам."
   ]
  },
  {
   "cell_type": "markdown",
   "id": "acc744b3",
   "metadata": {},
   "source": [
    "• Давайте посмотрим из каких штатов Бразилии у нас больше всего потерянных покупателей. Возьмем топ 10 штатов с наибольшим количеством таких покупателей."
   ]
  },
  {
   "cell_type": "code",
   "execution_count": 256,
   "id": "ad8dccb2",
   "metadata": {},
   "outputs": [],
   "source": [
    "lost_customers = rfm_df.query('RFM_Level == \"Lost\"').customer_unique_id"
   ]
  },
  {
   "cell_type": "code",
   "execution_count": 257,
   "id": "de666799",
   "metadata": {},
   "outputs": [
    {
     "data": {
      "text/html": [
       "<div>\n",
       "<style scoped>\n",
       "    .dataframe tbody tr th:only-of-type {\n",
       "        vertical-align: middle;\n",
       "    }\n",
       "\n",
       "    .dataframe tbody tr th {\n",
       "        vertical-align: top;\n",
       "    }\n",
       "\n",
       "    .dataframe thead th {\n",
       "        text-align: right;\n",
       "    }\n",
       "</style>\n",
       "<table border=\"1\" class=\"dataframe\">\n",
       "  <thead>\n",
       "    <tr style=\"text-align: right;\">\n",
       "      <th></th>\n",
       "      <th>customer_state</th>\n",
       "      <th>count</th>\n",
       "    </tr>\n",
       "  </thead>\n",
       "  <tbody>\n",
       "    <tr>\n",
       "      <th>8</th>\n",
       "      <td>GO</td>\n",
       "      <td>1686</td>\n",
       "    </tr>\n",
       "    <tr>\n",
       "      <th>7</th>\n",
       "      <td>ES</td>\n",
       "      <td>1748</td>\n",
       "    </tr>\n",
       "    <tr>\n",
       "      <th>6</th>\n",
       "      <td>DF</td>\n",
       "      <td>1774</td>\n",
       "    </tr>\n",
       "    <tr>\n",
       "      <th>4</th>\n",
       "      <td>BA</td>\n",
       "      <td>2812</td>\n",
       "    </tr>\n",
       "    <tr>\n",
       "      <th>23</th>\n",
       "      <td>SC</td>\n",
       "      <td>3049</td>\n",
       "    </tr>\n",
       "    <tr>\n",
       "      <th>17</th>\n",
       "      <td>PR</td>\n",
       "      <td>4251</td>\n",
       "    </tr>\n",
       "    <tr>\n",
       "      <th>22</th>\n",
       "      <td>RS</td>\n",
       "      <td>4676</td>\n",
       "    </tr>\n",
       "    <tr>\n",
       "      <th>10</th>\n",
       "      <td>MG</td>\n",
       "      <td>9851</td>\n",
       "    </tr>\n",
       "    <tr>\n",
       "      <th>18</th>\n",
       "      <td>RJ</td>\n",
       "      <td>10769</td>\n",
       "    </tr>\n",
       "    <tr>\n",
       "      <th>25</th>\n",
       "      <td>SP</td>\n",
       "      <td>35064</td>\n",
       "    </tr>\n",
       "  </tbody>\n",
       "</table>\n",
       "</div>"
      ],
      "text/plain": [
       "   customer_state  count\n",
       "8              GO   1686\n",
       "7              ES   1748\n",
       "6              DF   1774\n",
       "4              BA   2812\n",
       "23             SC   3049\n",
       "17             PR   4251\n",
       "22             RS   4676\n",
       "10             MG   9851\n",
       "18             RJ  10769\n",
       "25             SP  35064"
      ]
     },
     "execution_count": 257,
     "metadata": {},
     "output_type": "execute_result"
    }
   ],
   "source": [
    "lost_cust_by_state = customers.query('customer_unique_id in @lost_customers') \\\n",
    "    .groupby('customer_state', as_index=False) \\\n",
    "    .customer_id.count() \\\n",
    "    .rename(columns={'customer_id': 'count'}) \\\n",
    "    .sort_values('count') \\\n",
    "    .tail(10)\n",
    "lost_cust_by_state"
   ]
  },
  {
   "cell_type": "markdown",
   "id": "02299991",
   "metadata": {},
   "source": [
    "• Посмотрим на распределение на графике:"
   ]
  },
  {
   "cell_type": "code",
   "execution_count": 258,
   "id": "d1b6d4d3",
   "metadata": {},
   "outputs": [
    {
     "data": {
      "image/png": "[encoded data removed]",
      "text/plain": [
       "<Figure size 640x480 with 1 Axes>"
      ]
     },
     "metadata": {},
     "output_type": "display_data"
    }
   ],
   "source": [
    "sns.set(style=\"darkgrid\")\n",
    "ax = sns.barplot(x=\"customer_state\", y=\"count\", data=lost_cust_by_state)\n",
    "plt.show()"
   ]
  },
  {
   "cell_type": "markdown",
   "id": "446885bd",
   "metadata": {},
   "source": [
    "• В штате Sao Paolo значительная часть \"потерянных\" покупателей из топ 10 штатов. Давайте посмотрим на процент с помощью пай чарта: "
   ]
  },
  {
   "cell_type": "code",
   "execution_count": 259,
   "id": "cf819644",
   "metadata": {},
   "outputs": [
    {
     "data": {
      "image/png": "[encoded data removed]",
      "text/plain": [
       "<Figure size 640x480 with 1 Axes>"
      ]
     },
     "metadata": {},
     "output_type": "display_data"
    }
   ],
   "source": [
    "state_list = lost_cust_by_state.customer_state.to_list()\n",
    "explode = (0.3, 0.3, 0.3, 0.2, 0.2, 0, 0, 0, 0, 0)\n",
    "\n",
    "colors = sns.color_palette('pastel')[0:5]\n",
    "\n",
    "plt.pie(lost_cust_by_state['count'], \n",
    "        explode=explode, \n",
    "        labels = state_list, \n",
    "        colors = colors,\n",
    "        pctdistance = 0.7,\n",
    "        autopct='%.0f%%')\n",
    "plt.show()"
   ]
  },
  {
   "cell_type": "markdown",
   "id": "777bb61a",
   "metadata": {},
   "source": [
    "### Итак, в Sao Paolo у нас 46% из всех \"потерянных\" покупателей в топ 10 штатах Бразилии. Думаю, маркетинговую работу следует начать с жителей именно этого штата!"
   ]
  }
 ],
 "metadata": {
  "kernelspec": {
   "display_name": "Python 3 (ipykernel)",
   "language": "python",
   "name": "python3"
  },
  "language_info": {
   "codemirror_mode": {
    "name": "ipython",
    "version": 3
   },
   "file_extension": ".py",
   "mimetype": "text/x-python",
   "name": "python",
   "nbconvert_exporter": "python",
   "pygments_lexer": "ipython3",
   "version": "3.10.9"
  }
 },
 "nbformat": 4,
 "nbformat_minor": 5
}
